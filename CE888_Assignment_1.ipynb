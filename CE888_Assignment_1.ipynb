{
  "nbformat": 4,
  "nbformat_minor": 0,
  "metadata": {
    "colab": {
      "name": "CE888.ipynb",
      "provenance": [],
      "collapsed_sections": [],
      "toc_visible": true,
      "authorship_tag": "ABX9TyOHX+IcMXJvLATZ3AciuA0v",
      "include_colab_link": true
    },
    "kernelspec": {
      "name": "python3",
      "display_name": "Python 3"
    },
    "accelerator": "GPU"
  },
  "cells": [
    {
      "cell_type": "markdown",
      "metadata": {
        "id": "view-in-github",
        "colab_type": "text"
      },
      "source": [
        "<a href=\"https://colab.research.google.com/github/SudheenaMisra/githubCE888/blob/main/CE888_Assignment_1.ipynb\" target=\"_parent\"><img src=\"https://colab.research.google.com/assets/colab-badge.svg\" alt=\"Open In Colab\"/></a>"
      ]
    },
    {
      "cell_type": "code",
      "metadata": {
        "colab": {
          "base_uri": "https://localhost:8080/"
        },
        "id": "9TaacAh_D-as",
        "outputId": "473c9c75-8074-43d0-eece-3d81cbd7829b"
      },
      "source": [
        "!pip install pandas\r\n",
        "!pip install numpy"
      ],
      "execution_count": 1,
      "outputs": [
        {
          "output_type": "stream",
          "text": [
            "Requirement already satisfied: pandas in /usr/local/lib/python3.7/dist-packages (1.1.5)\n",
            "Requirement already satisfied: numpy>=1.15.4 in /usr/local/lib/python3.7/dist-packages (from pandas) (1.19.5)\n",
            "Requirement already satisfied: pytz>=2017.2 in /usr/local/lib/python3.7/dist-packages (from pandas) (2018.9)\n",
            "Requirement already satisfied: python-dateutil>=2.7.3 in /usr/local/lib/python3.7/dist-packages (from pandas) (2.8.1)\n",
            "Requirement already satisfied: six>=1.5 in /usr/local/lib/python3.7/dist-packages (from python-dateutil>=2.7.3->pandas) (1.15.0)\n",
            "Requirement already satisfied: numpy in /usr/local/lib/python3.7/dist-packages (1.19.5)\n"
          ],
          "name": "stdout"
        }
      ]
    },
    {
      "cell_type": "code",
      "metadata": {
        "id": "oO4U2heq5smh"
      },
      "source": [
        "import pandas as pd\r\n",
        "import numpy as np\r\n",
        "import matplotlib.pyplot as plt\r\n",
        "import seaborn as sns"
      ],
      "execution_count": 2,
      "outputs": []
    },
    {
      "cell_type": "markdown",
      "metadata": {
        "id": "bseME5WmjuCg"
      },
      "source": [
        "We have different datasets that describes the crime, outcome and stop and search according to each street.In this I am going to consider City of london and North wales. First of all taking the crime datas in City of London and North Wales street and concatenating them together,then taking the outcomes of these streets and contaenating them together and then I will contacatenate the stop and serach informations of these streets and contacatenate them too.Then finally I will merge all these informations together into a single dataset and start working on it"
      ]
    },
    {
      "cell_type": "markdown",
      "metadata": {
        "id": "S8ZOzTOiZYqp"
      },
      "source": [
        "#Crime data"
      ]
    },
    {
      "cell_type": "code",
      "metadata": {
        "colab": {
          "base_uri": "https://localhost:8080/",
          "height": 484
        },
        "id": "TgPFk_QarTie",
        "outputId": "9e0d4ac4-2917-4e09-9ccb-4b4ba14f5999"
      },
      "source": [
        "#The crime data from City of London\r\n",
        "d1 = pd.read_csv(\"https://raw.githubusercontent.com/SudheenaMisra/githubCE888/main/data_ce888/2020-12-city-of-london-street.csv\")\r\n",
        "d1.head()"
      ],
      "execution_count": 16,
      "outputs": [
        {
          "output_type": "execute_result",
          "data": {
            "text/html": [
              "<div>\n",
              "<style scoped>\n",
              "    .dataframe tbody tr th:only-of-type {\n",
              "        vertical-align: middle;\n",
              "    }\n",
              "\n",
              "    .dataframe tbody tr th {\n",
              "        vertical-align: top;\n",
              "    }\n",
              "\n",
              "    .dataframe thead th {\n",
              "        text-align: right;\n",
              "    }\n",
              "</style>\n",
              "<table border=\"1\" class=\"dataframe\">\n",
              "  <thead>\n",
              "    <tr style=\"text-align: right;\">\n",
              "      <th></th>\n",
              "      <th>Crime ID</th>\n",
              "      <th>Month</th>\n",
              "      <th>Reported by</th>\n",
              "      <th>Falls within</th>\n",
              "      <th>Longitude</th>\n",
              "      <th>Latitude</th>\n",
              "      <th>Location</th>\n",
              "      <th>LSOA code</th>\n",
              "      <th>LSOA name</th>\n",
              "      <th>Crime type</th>\n",
              "      <th>Last outcome category</th>\n",
              "      <th>Context</th>\n",
              "    </tr>\n",
              "  </thead>\n",
              "  <tbody>\n",
              "    <tr>\n",
              "      <th>0</th>\n",
              "      <td>7b810846cdd807c8f0b8241ed943b0b6dfe8374785a9cd...</td>\n",
              "      <td>2020-12</td>\n",
              "      <td>City of London Police</td>\n",
              "      <td>City of London Police</td>\n",
              "      <td>-0.111962</td>\n",
              "      <td>51.518494</td>\n",
              "      <td>On or near Nightclub</td>\n",
              "      <td>E01000914</td>\n",
              "      <td>Camden 028B</td>\n",
              "      <td>Robbery</td>\n",
              "      <td>Investigation complete; no suspect identified</td>\n",
              "      <td>NaN</td>\n",
              "    </tr>\n",
              "    <tr>\n",
              "      <th>1</th>\n",
              "      <td>61406a16e68ad9aecf168a7eaf7cfcf3c848494a1868b4...</td>\n",
              "      <td>2020-12</td>\n",
              "      <td>City of London Police</td>\n",
              "      <td>City of London Police</td>\n",
              "      <td>-0.111962</td>\n",
              "      <td>51.518494</td>\n",
              "      <td>On or near Nightclub</td>\n",
              "      <td>E01000914</td>\n",
              "      <td>Camden 028B</td>\n",
              "      <td>Theft from the person</td>\n",
              "      <td>Under investigation</td>\n",
              "      <td>NaN</td>\n",
              "    </tr>\n",
              "    <tr>\n",
              "      <th>2</th>\n",
              "      <td>NaN</td>\n",
              "      <td>2020-12</td>\n",
              "      <td>City of London Police</td>\n",
              "      <td>City of London Police</td>\n",
              "      <td>-0.098572</td>\n",
              "      <td>51.516767</td>\n",
              "      <td>On or near King Edward Street</td>\n",
              "      <td>E01000001</td>\n",
              "      <td>City of London 001A</td>\n",
              "      <td>Anti-social behaviour</td>\n",
              "      <td>NaN</td>\n",
              "      <td>NaN</td>\n",
              "    </tr>\n",
              "    <tr>\n",
              "      <th>3</th>\n",
              "      <td>NaN</td>\n",
              "      <td>2020-12</td>\n",
              "      <td>City of London Police</td>\n",
              "      <td>City of London Police</td>\n",
              "      <td>-0.097053</td>\n",
              "      <td>51.518262</td>\n",
              "      <td>On or near Aldersgate Street</td>\n",
              "      <td>E01000001</td>\n",
              "      <td>City of London 001A</td>\n",
              "      <td>Anti-social behaviour</td>\n",
              "      <td>NaN</td>\n",
              "      <td>NaN</td>\n",
              "    </tr>\n",
              "    <tr>\n",
              "      <th>4</th>\n",
              "      <td>NaN</td>\n",
              "      <td>2020-12</td>\n",
              "      <td>City of London Police</td>\n",
              "      <td>City of London Police</td>\n",
              "      <td>-0.097562</td>\n",
              "      <td>51.518864</td>\n",
              "      <td>On or near Parking Area</td>\n",
              "      <td>E01000001</td>\n",
              "      <td>City of London 001A</td>\n",
              "      <td>Anti-social behaviour</td>\n",
              "      <td>NaN</td>\n",
              "      <td>NaN</td>\n",
              "    </tr>\n",
              "  </tbody>\n",
              "</table>\n",
              "</div>"
            ],
            "text/plain": [
              "                                            Crime ID  ... Context\n",
              "0  7b810846cdd807c8f0b8241ed943b0b6dfe8374785a9cd...  ...     NaN\n",
              "1  61406a16e68ad9aecf168a7eaf7cfcf3c848494a1868b4...  ...     NaN\n",
              "2                                                NaN  ...     NaN\n",
              "3                                                NaN  ...     NaN\n",
              "4                                                NaN  ...     NaN\n",
              "\n",
              "[5 rows x 12 columns]"
            ]
          },
          "metadata": {
            "tags": []
          },
          "execution_count": 16
        }
      ]
    },
    {
      "cell_type": "code",
      "metadata": {
        "colab": {
          "base_uri": "https://localhost:8080/",
          "height": 518
        },
        "id": "53Pvy6J9I2GZ",
        "outputId": "caba9a18-3395-48ec-aaae-7282489a8791"
      },
      "source": [
        "#The crime data from North Wales\r\n",
        "d2 =pd.read_csv(\"https://raw.githubusercontent.com/SudheenaMisra/githubCE888/main/data_ce888/2020-12-north-wales-street.csv\")\r\n",
        "d2.head()"
      ],
      "execution_count": 17,
      "outputs": [
        {
          "output_type": "execute_result",
          "data": {
            "text/html": [
              "<div>\n",
              "<style scoped>\n",
              "    .dataframe tbody tr th:only-of-type {\n",
              "        vertical-align: middle;\n",
              "    }\n",
              "\n",
              "    .dataframe tbody tr th {\n",
              "        vertical-align: top;\n",
              "    }\n",
              "\n",
              "    .dataframe thead th {\n",
              "        text-align: right;\n",
              "    }\n",
              "</style>\n",
              "<table border=\"1\" class=\"dataframe\">\n",
              "  <thead>\n",
              "    <tr style=\"text-align: right;\">\n",
              "      <th></th>\n",
              "      <th>Crime ID</th>\n",
              "      <th>Month</th>\n",
              "      <th>Reported by</th>\n",
              "      <th>Falls within</th>\n",
              "      <th>Longitude</th>\n",
              "      <th>Latitude</th>\n",
              "      <th>Location</th>\n",
              "      <th>LSOA code</th>\n",
              "      <th>LSOA name</th>\n",
              "      <th>Crime type</th>\n",
              "      <th>Last outcome category</th>\n",
              "      <th>Context</th>\n",
              "    </tr>\n",
              "  </thead>\n",
              "  <tbody>\n",
              "    <tr>\n",
              "      <th>0</th>\n",
              "      <td>NaN</td>\n",
              "      <td>2020-12</td>\n",
              "      <td>North Wales Police</td>\n",
              "      <td>North Wales Police</td>\n",
              "      <td>-2.955061</td>\n",
              "      <td>53.240843</td>\n",
              "      <td>On or near By Pass Road</td>\n",
              "      <td>E01018367</td>\n",
              "      <td>Cheshire West and Chester 025C</td>\n",
              "      <td>Anti-social behaviour</td>\n",
              "      <td>NaN</td>\n",
              "      <td>NaN</td>\n",
              "    </tr>\n",
              "    <tr>\n",
              "      <th>1</th>\n",
              "      <td>90086aab519a19c3a4174a3877e1afb72859e0f4e670a7...</td>\n",
              "      <td>2020-12</td>\n",
              "      <td>North Wales Police</td>\n",
              "      <td>North Wales Police</td>\n",
              "      <td>-2.940366</td>\n",
              "      <td>53.203466</td>\n",
              "      <td>On or near Springwood Close</td>\n",
              "      <td>E01018313</td>\n",
              "      <td>Cheshire West and Chester 031A</td>\n",
              "      <td>Other theft</td>\n",
              "      <td>Under investigation</td>\n",
              "      <td>NaN</td>\n",
              "    </tr>\n",
              "    <tr>\n",
              "      <th>2</th>\n",
              "      <td>4291591c4b86172dc6db528a9eee384befd0badab8ddab...</td>\n",
              "      <td>2020-12</td>\n",
              "      <td>North Wales Police</td>\n",
              "      <td>North Wales Police</td>\n",
              "      <td>-2.920243</td>\n",
              "      <td>53.180323</td>\n",
              "      <td>On or near River Lane</td>\n",
              "      <td>E01018332</td>\n",
              "      <td>Cheshire West and Chester 043A</td>\n",
              "      <td>Violence and sexual offences</td>\n",
              "      <td>Under investigation</td>\n",
              "      <td>NaN</td>\n",
              "    </tr>\n",
              "    <tr>\n",
              "      <th>3</th>\n",
              "      <td>NaN</td>\n",
              "      <td>2020-12</td>\n",
              "      <td>North Wales Police</td>\n",
              "      <td>North Wales Police</td>\n",
              "      <td>-3.811959</td>\n",
              "      <td>53.321675</td>\n",
              "      <td>On or near Back East Parade</td>\n",
              "      <td>W01000132</td>\n",
              "      <td>Conwy 001A</td>\n",
              "      <td>Anti-social behaviour</td>\n",
              "      <td>NaN</td>\n",
              "      <td>NaN</td>\n",
              "    </tr>\n",
              "    <tr>\n",
              "      <th>4</th>\n",
              "      <td>NaN</td>\n",
              "      <td>2020-12</td>\n",
              "      <td>North Wales Police</td>\n",
              "      <td>North Wales Police</td>\n",
              "      <td>-3.811356</td>\n",
              "      <td>53.320542</td>\n",
              "      <td>On or near Supermarket</td>\n",
              "      <td>W01000132</td>\n",
              "      <td>Conwy 001A</td>\n",
              "      <td>Anti-social behaviour</td>\n",
              "      <td>NaN</td>\n",
              "      <td>NaN</td>\n",
              "    </tr>\n",
              "  </tbody>\n",
              "</table>\n",
              "</div>"
            ],
            "text/plain": [
              "                                            Crime ID  ... Context\n",
              "0                                                NaN  ...     NaN\n",
              "1  90086aab519a19c3a4174a3877e1afb72859e0f4e670a7...  ...     NaN\n",
              "2  4291591c4b86172dc6db528a9eee384befd0badab8ddab...  ...     NaN\n",
              "3                                                NaN  ...     NaN\n",
              "4                                                NaN  ...     NaN\n",
              "\n",
              "[5 rows x 12 columns]"
            ]
          },
          "metadata": {
            "tags": []
          },
          "execution_count": 17
        }
      ]
    },
    {
      "cell_type": "code",
      "metadata": {
        "id": "hMC8xUzEMWsv",
        "colab": {
          "base_uri": "https://localhost:8080/"
        },
        "outputId": "7806054d-5b85-400b-bf09-521fcdd5ca1e"
      },
      "source": [
        "#d3 is the dataset consisting of crimes in City of London and North Wales\r\n",
        "d3 = pd.concat([d1,d2]) \r\n",
        "d3.info()\r\n",
        "d3.shape"
      ],
      "execution_count": 18,
      "outputs": [
        {
          "output_type": "stream",
          "text": [
            "<class 'pandas.core.frame.DataFrame'>\n",
            "Int64Index: 5384 entries, 0 to 4979\n",
            "Data columns (total 12 columns):\n",
            " #   Column                 Non-Null Count  Dtype  \n",
            "---  ------                 --------------  -----  \n",
            " 0   Crime ID               4140 non-null   object \n",
            " 1   Month                  5384 non-null   object \n",
            " 2   Reported by            5384 non-null   object \n",
            " 3   Falls within           5384 non-null   object \n",
            " 4   Longitude              5347 non-null   float64\n",
            " 5   Latitude               5347 non-null   float64\n",
            " 6   Location               5384 non-null   object \n",
            " 7   LSOA code              5347 non-null   object \n",
            " 8   LSOA name              5347 non-null   object \n",
            " 9   Crime type             5384 non-null   object \n",
            " 10  Last outcome category  4140 non-null   object \n",
            " 11  Context                0 non-null      float64\n",
            "dtypes: float64(3), object(9)\n",
            "memory usage: 546.8+ KB\n"
          ],
          "name": "stdout"
        },
        {
          "output_type": "execute_result",
          "data": {
            "text/plain": [
              "(5384, 12)"
            ]
          },
          "metadata": {
            "tags": []
          },
          "execution_count": 18
        }
      ]
    },
    {
      "cell_type": "markdown",
      "metadata": {
        "id": "Mpnhi8AOZfUb"
      },
      "source": [
        "#Outcome data"
      ]
    },
    {
      "cell_type": "code",
      "metadata": {
        "colab": {
          "base_uri": "https://localhost:8080/",
          "height": 430
        },
        "id": "mfsDJEapZjGk",
        "outputId": "1afefed0-0bff-4334-e312-f620a00dfa55"
      },
      "source": [
        "#The Outcome data from City of London\r\n",
        "o1 = pd.read_csv(\"https://raw.githubusercontent.com/SudheenaMisra/githubCE888/main/data_ce888/2021-01-city-of-london-outcomes.csv\")\r\n",
        "o1.head()"
      ],
      "execution_count": 19,
      "outputs": [
        {
          "output_type": "execute_result",
          "data": {
            "text/html": [
              "<div>\n",
              "<style scoped>\n",
              "    .dataframe tbody tr th:only-of-type {\n",
              "        vertical-align: middle;\n",
              "    }\n",
              "\n",
              "    .dataframe tbody tr th {\n",
              "        vertical-align: top;\n",
              "    }\n",
              "\n",
              "    .dataframe thead th {\n",
              "        text-align: right;\n",
              "    }\n",
              "</style>\n",
              "<table border=\"1\" class=\"dataframe\">\n",
              "  <thead>\n",
              "    <tr style=\"text-align: right;\">\n",
              "      <th></th>\n",
              "      <th>Crime ID</th>\n",
              "      <th>Month</th>\n",
              "      <th>Reported by</th>\n",
              "      <th>Falls within</th>\n",
              "      <th>Longitude</th>\n",
              "      <th>Latitude</th>\n",
              "      <th>Location</th>\n",
              "      <th>LSOA code</th>\n",
              "      <th>LSOA name</th>\n",
              "      <th>Outcome type</th>\n",
              "    </tr>\n",
              "  </thead>\n",
              "  <tbody>\n",
              "    <tr>\n",
              "      <th>0</th>\n",
              "      <td>7621aa40f519eb0cb43e1915a4d59ff35cd081e7d701f6...</td>\n",
              "      <td>2021-01</td>\n",
              "      <td>City of London Police</td>\n",
              "      <td>City of London Police</td>\n",
              "      <td>NaN</td>\n",
              "      <td>NaN</td>\n",
              "      <td>No location</td>\n",
              "      <td>NaN</td>\n",
              "      <td>NaN</td>\n",
              "      <td>Suspect charged</td>\n",
              "    </tr>\n",
              "    <tr>\n",
              "      <th>1</th>\n",
              "      <td>e46748050c03905bedf2ce6f7e8f63df11604ec82d0730...</td>\n",
              "      <td>2021-01</td>\n",
              "      <td>City of London Police</td>\n",
              "      <td>City of London Police</td>\n",
              "      <td>-0.088393</td>\n",
              "      <td>51.511332</td>\n",
              "      <td>On or near ABCHURCH LANE</td>\n",
              "      <td>E01032739</td>\n",
              "      <td>City of London 001F</td>\n",
              "      <td>Unable to prosecute suspect</td>\n",
              "    </tr>\n",
              "    <tr>\n",
              "      <th>2</th>\n",
              "      <td>1574f535d9b506f6de6b212f485c326587e70eedc3e656...</td>\n",
              "      <td>2021-01</td>\n",
              "      <td>City of London Police</td>\n",
              "      <td>City of London Police</td>\n",
              "      <td>NaN</td>\n",
              "      <td>NaN</td>\n",
              "      <td>No location</td>\n",
              "      <td>NaN</td>\n",
              "      <td>NaN</td>\n",
              "      <td>Formal action is not in the public interest</td>\n",
              "    </tr>\n",
              "    <tr>\n",
              "      <th>3</th>\n",
              "      <td>7afbb7d813d512d779333b61b3c384e678891cd0cbe9c7...</td>\n",
              "      <td>2021-01</td>\n",
              "      <td>City of London Police</td>\n",
              "      <td>City of London Police</td>\n",
              "      <td>NaN</td>\n",
              "      <td>NaN</td>\n",
              "      <td>No location</td>\n",
              "      <td>NaN</td>\n",
              "      <td>NaN</td>\n",
              "      <td>Investigation complete; no suspect identified</td>\n",
              "    </tr>\n",
              "    <tr>\n",
              "      <th>4</th>\n",
              "      <td>78c636734bf8bbacf5e4a10580f851ec765eb2f35ba4af...</td>\n",
              "      <td>2021-01</td>\n",
              "      <td>City of London Police</td>\n",
              "      <td>City of London Police</td>\n",
              "      <td>-0.082458</td>\n",
              "      <td>51.517431</td>\n",
              "      <td>On or near LIVERPOOL STREET</td>\n",
              "      <td>E01032739</td>\n",
              "      <td>City of London 001F</td>\n",
              "      <td>Investigation complete; no suspect identified</td>\n",
              "    </tr>\n",
              "  </tbody>\n",
              "</table>\n",
              "</div>"
            ],
            "text/plain": [
              "                                            Crime ID  ...                                   Outcome type\n",
              "0  7621aa40f519eb0cb43e1915a4d59ff35cd081e7d701f6...  ...                                Suspect charged\n",
              "1  e46748050c03905bedf2ce6f7e8f63df11604ec82d0730...  ...                    Unable to prosecute suspect\n",
              "2  1574f535d9b506f6de6b212f485c326587e70eedc3e656...  ...    Formal action is not in the public interest\n",
              "3  7afbb7d813d512d779333b61b3c384e678891cd0cbe9c7...  ...  Investigation complete; no suspect identified\n",
              "4  78c636734bf8bbacf5e4a10580f851ec765eb2f35ba4af...  ...  Investigation complete; no suspect identified\n",
              "\n",
              "[5 rows x 10 columns]"
            ]
          },
          "metadata": {
            "tags": []
          },
          "execution_count": 19
        }
      ]
    },
    {
      "cell_type": "code",
      "metadata": {
        "colab": {
          "base_uri": "https://localhost:8080/",
          "height": 434
        },
        "id": "sML9w6GpcWxl",
        "outputId": "218f729e-df36-4068-96f9-7ef092213af1"
      },
      "source": [
        "#The Outcome data from North Wales\r\n",
        "o2 = pd.read_csv(\"https://raw.githubusercontent.com/SudheenaMisra/githubCE888/main/data_ce888/2021-01-north-wales-outcomes.csv\")\r\n",
        "o2.head()"
      ],
      "execution_count": 20,
      "outputs": [
        {
          "output_type": "execute_result",
          "data": {
            "text/html": [
              "<div>\n",
              "<style scoped>\n",
              "    .dataframe tbody tr th:only-of-type {\n",
              "        vertical-align: middle;\n",
              "    }\n",
              "\n",
              "    .dataframe tbody tr th {\n",
              "        vertical-align: top;\n",
              "    }\n",
              "\n",
              "    .dataframe thead th {\n",
              "        text-align: right;\n",
              "    }\n",
              "</style>\n",
              "<table border=\"1\" class=\"dataframe\">\n",
              "  <thead>\n",
              "    <tr style=\"text-align: right;\">\n",
              "      <th></th>\n",
              "      <th>Crime ID</th>\n",
              "      <th>Month</th>\n",
              "      <th>Reported by</th>\n",
              "      <th>Falls within</th>\n",
              "      <th>Longitude</th>\n",
              "      <th>Latitude</th>\n",
              "      <th>Location</th>\n",
              "      <th>LSOA code</th>\n",
              "      <th>LSOA name</th>\n",
              "      <th>Outcome type</th>\n",
              "    </tr>\n",
              "  </thead>\n",
              "  <tbody>\n",
              "    <tr>\n",
              "      <th>0</th>\n",
              "      <td>baaab3c4fe61ee638a4be2941e7d751df11f3015d17da1...</td>\n",
              "      <td>2021-01</td>\n",
              "      <td>North Wales Police</td>\n",
              "      <td>North Wales Police</td>\n",
              "      <td>-3.059700</td>\n",
              "      <td>52.981494</td>\n",
              "      <td>On or near OGWEN</td>\n",
              "      <td>W01000409</td>\n",
              "      <td>Wrexham 017E</td>\n",
              "      <td>Investigation complete; no suspect identified</td>\n",
              "    </tr>\n",
              "    <tr>\n",
              "      <th>1</th>\n",
              "      <td>5dd1731575f879371454e2cb813ef35b9b359f70db5266...</td>\n",
              "      <td>2021-01</td>\n",
              "      <td>North Wales Police</td>\n",
              "      <td>North Wales Police</td>\n",
              "      <td>-3.831316</td>\n",
              "      <td>53.328068</td>\n",
              "      <td>On or near HILL TERRACE</td>\n",
              "      <td>W01000146</td>\n",
              "      <td>Conwy 001B</td>\n",
              "      <td>Unable to prosecute suspect</td>\n",
              "    </tr>\n",
              "    <tr>\n",
              "      <th>2</th>\n",
              "      <td>97474a649b6c2c058e73b200fed4cb7323a5b5dd38d776...</td>\n",
              "      <td>2021-01</td>\n",
              "      <td>North Wales Police</td>\n",
              "      <td>North Wales Police</td>\n",
              "      <td>-2.993341</td>\n",
              "      <td>53.041713</td>\n",
              "      <td>On or near MADIERA HILL</td>\n",
              "      <td>W01000365</td>\n",
              "      <td>Wrexham 011C</td>\n",
              "      <td>Investigation complete; no suspect identified</td>\n",
              "    </tr>\n",
              "    <tr>\n",
              "      <th>3</th>\n",
              "      <td>83d28ba37f98dd264803452524018e44faf79ea32f4043...</td>\n",
              "      <td>2021-01</td>\n",
              "      <td>North Wales Police</td>\n",
              "      <td>North Wales Police</td>\n",
              "      <td>-3.725748</td>\n",
              "      <td>53.294536</td>\n",
              "      <td>On or near SEA VIEW ROAD</td>\n",
              "      <td>W01000144</td>\n",
              "      <td>Conwy 007C</td>\n",
              "      <td>Unable to prosecute suspect</td>\n",
              "    </tr>\n",
              "    <tr>\n",
              "      <th>4</th>\n",
              "      <td>7bddd8bd36e4cb6b77837e492ca6ef529e4ca9d21c2771...</td>\n",
              "      <td>2021-01</td>\n",
              "      <td>North Wales Police</td>\n",
              "      <td>North Wales Police</td>\n",
              "      <td>-4.301293</td>\n",
              "      <td>53.255748</td>\n",
              "      <td>On or near UCHELDRE</td>\n",
              "      <td>W01000041</td>\n",
              "      <td>Isle of Anglesey 006D</td>\n",
              "      <td>Unable to prosecute suspect</td>\n",
              "    </tr>\n",
              "  </tbody>\n",
              "</table>\n",
              "</div>"
            ],
            "text/plain": [
              "                                            Crime ID  ...                                   Outcome type\n",
              "0  baaab3c4fe61ee638a4be2941e7d751df11f3015d17da1...  ...  Investigation complete; no suspect identified\n",
              "1  5dd1731575f879371454e2cb813ef35b9b359f70db5266...  ...                    Unable to prosecute suspect\n",
              "2  97474a649b6c2c058e73b200fed4cb7323a5b5dd38d776...  ...  Investigation complete; no suspect identified\n",
              "3  83d28ba37f98dd264803452524018e44faf79ea32f4043...  ...                    Unable to prosecute suspect\n",
              "4  7bddd8bd36e4cb6b77837e492ca6ef529e4ca9d21c2771...  ...                    Unable to prosecute suspect\n",
              "\n",
              "[5 rows x 10 columns]"
            ]
          },
          "metadata": {
            "tags": []
          },
          "execution_count": 20
        }
      ]
    },
    {
      "cell_type": "code",
      "metadata": {
        "id": "aA__AFdSc4fa"
      },
      "source": [
        "#o3 is the dataset that includes the outcome of both City of London and North Wales\r\n",
        "o3 = pd.concat([o1,o2])"
      ],
      "execution_count": 21,
      "outputs": []
    },
    {
      "cell_type": "code",
      "metadata": {
        "colab": {
          "base_uri": "https://localhost:8080/"
        },
        "id": "PL-a-NqCdHl_",
        "outputId": "849008ec-d205-4621-b5db-fdb334150231"
      },
      "source": [
        "#Checking number of Columns(variables) in outcome data\r\n",
        "o3.columns "
      ],
      "execution_count": 22,
      "outputs": [
        {
          "output_type": "execute_result",
          "data": {
            "text/plain": [
              "Index(['Crime ID', 'Month', 'Reported by', 'Falls within', 'Longitude',\n",
              "       'Latitude', 'Location', 'LSOA code', 'LSOA name', 'Outcome type'],\n",
              "      dtype='object')"
            ]
          },
          "metadata": {
            "tags": []
          },
          "execution_count": 22
        }
      ]
    },
    {
      "cell_type": "code",
      "metadata": {
        "colab": {
          "base_uri": "https://localhost:8080/"
        },
        "id": "5jySmNHqUOXx",
        "outputId": "d0492c84-a482-478b-c1a9-cd1e965a48c3"
      },
      "source": [
        "#Checking number of Columns(variables) in Crime data\r\n",
        "d3.columns"
      ],
      "execution_count": 23,
      "outputs": [
        {
          "output_type": "execute_result",
          "data": {
            "text/plain": [
              "Index(['Crime ID', 'Month', 'Reported by', 'Falls within', 'Longitude',\n",
              "       'Latitude', 'Location', 'LSOA code', 'LSOA name', 'Crime type',\n",
              "       'Last outcome category', 'Context'],\n",
              "      dtype='object')"
            ]
          },
          "metadata": {
            "tags": []
          },
          "execution_count": 23
        }
      ]
    },
    {
      "cell_type": "markdown",
      "metadata": {
        "id": "rxByzvKddiA2"
      },
      "source": [
        "#Stop and search"
      ]
    },
    {
      "cell_type": "code",
      "metadata": {
        "colab": {
          "base_uri": "https://localhost:8080/",
          "height": 551
        },
        "id": "NO-_PAludu8s",
        "outputId": "896af143-5150-4f5d-f3d8-448729d376fb"
      },
      "source": [
        "#This dataset describes the stop and search reported in City of London\r\n",
        "s1 = pd.read_csv(\"https://raw.githubusercontent.com/SudheenaMisra/githubCE888/main/data_ce888/2021-01-city-of-london-stop-and-search.csv\")\r\n",
        "s1.head()"
      ],
      "execution_count": 24,
      "outputs": [
        {
          "output_type": "execute_result",
          "data": {
            "text/html": [
              "<div>\n",
              "<style scoped>\n",
              "    .dataframe tbody tr th:only-of-type {\n",
              "        vertical-align: middle;\n",
              "    }\n",
              "\n",
              "    .dataframe tbody tr th {\n",
              "        vertical-align: top;\n",
              "    }\n",
              "\n",
              "    .dataframe thead th {\n",
              "        text-align: right;\n",
              "    }\n",
              "</style>\n",
              "<table border=\"1\" class=\"dataframe\">\n",
              "  <thead>\n",
              "    <tr style=\"text-align: right;\">\n",
              "      <th></th>\n",
              "      <th>Type</th>\n",
              "      <th>Date</th>\n",
              "      <th>Part of a policing operation</th>\n",
              "      <th>Policing operation</th>\n",
              "      <th>Latitude</th>\n",
              "      <th>Longitude</th>\n",
              "      <th>Gender</th>\n",
              "      <th>Age range</th>\n",
              "      <th>Self-defined ethnicity</th>\n",
              "      <th>Officer-defined ethnicity</th>\n",
              "      <th>Legislation</th>\n",
              "      <th>Object of search</th>\n",
              "      <th>Outcome</th>\n",
              "      <th>Outcome linked to object of search</th>\n",
              "      <th>Removal of more than just outer clothing</th>\n",
              "    </tr>\n",
              "  </thead>\n",
              "  <tbody>\n",
              "    <tr>\n",
              "      <th>0</th>\n",
              "      <td>Person and Vehicle search</td>\n",
              "      <td>2021-01-01T01:41:28+00:00</td>\n",
              "      <td>NaN</td>\n",
              "      <td>NaN</td>\n",
              "      <td>51.51768</td>\n",
              "      <td>-0.078484</td>\n",
              "      <td>Male</td>\n",
              "      <td>18-24</td>\n",
              "      <td>Other ethnic group - Not stated</td>\n",
              "      <td>Black</td>\n",
              "      <td>Misuse of Drugs Act 1971 (section 23)</td>\n",
              "      <td>Controlled drugs</td>\n",
              "      <td>Summons / charged by post</td>\n",
              "      <td>True</td>\n",
              "      <td>False</td>\n",
              "    </tr>\n",
              "    <tr>\n",
              "      <th>1</th>\n",
              "      <td>Person search</td>\n",
              "      <td>2021-01-01T03:40:20+00:00</td>\n",
              "      <td>NaN</td>\n",
              "      <td>NaN</td>\n",
              "      <td>NaN</td>\n",
              "      <td>NaN</td>\n",
              "      <td>Male</td>\n",
              "      <td>10-17</td>\n",
              "      <td>Other ethnic group - Not stated</td>\n",
              "      <td>Asian</td>\n",
              "      <td>Misuse of Drugs Act 1971 (section 23)</td>\n",
              "      <td>Controlled drugs</td>\n",
              "      <td>A no further action disposal</td>\n",
              "      <td>False</td>\n",
              "      <td>False</td>\n",
              "    </tr>\n",
              "    <tr>\n",
              "      <th>2</th>\n",
              "      <td>Person search</td>\n",
              "      <td>2021-01-01T03:48:41+00:00</td>\n",
              "      <td>NaN</td>\n",
              "      <td>NaN</td>\n",
              "      <td>NaN</td>\n",
              "      <td>NaN</td>\n",
              "      <td>Male</td>\n",
              "      <td>18-24</td>\n",
              "      <td>Other ethnic group - Not stated</td>\n",
              "      <td>Other</td>\n",
              "      <td>Misuse of Drugs Act 1971 (section 23)</td>\n",
              "      <td>Controlled drugs</td>\n",
              "      <td>A no further action disposal</td>\n",
              "      <td>False</td>\n",
              "      <td>False</td>\n",
              "    </tr>\n",
              "    <tr>\n",
              "      <th>3</th>\n",
              "      <td>Person search</td>\n",
              "      <td>2021-01-01T03:52:14+00:00</td>\n",
              "      <td>NaN</td>\n",
              "      <td>NaN</td>\n",
              "      <td>NaN</td>\n",
              "      <td>NaN</td>\n",
              "      <td>Male</td>\n",
              "      <td>10-17</td>\n",
              "      <td>Other ethnic group - Not stated</td>\n",
              "      <td>Asian</td>\n",
              "      <td>Misuse of Drugs Act 1971 (section 23)</td>\n",
              "      <td>Controlled drugs</td>\n",
              "      <td>A no further action disposal</td>\n",
              "      <td>False</td>\n",
              "      <td>False</td>\n",
              "    </tr>\n",
              "    <tr>\n",
              "      <th>4</th>\n",
              "      <td>Person search</td>\n",
              "      <td>2021-01-01T03:57:34+00:00</td>\n",
              "      <td>NaN</td>\n",
              "      <td>NaN</td>\n",
              "      <td>NaN</td>\n",
              "      <td>NaN</td>\n",
              "      <td>Male</td>\n",
              "      <td>18-24</td>\n",
              "      <td>Other ethnic group - Not stated</td>\n",
              "      <td>Other</td>\n",
              "      <td>Misuse of Drugs Act 1971 (section 23)</td>\n",
              "      <td>Controlled drugs</td>\n",
              "      <td>A no further action disposal</td>\n",
              "      <td>False</td>\n",
              "      <td>False</td>\n",
              "    </tr>\n",
              "  </tbody>\n",
              "</table>\n",
              "</div>"
            ],
            "text/plain": [
              "                        Type  ... Removal of more than just outer clothing\n",
              "0  Person and Vehicle search  ...                                    False\n",
              "1              Person search  ...                                    False\n",
              "2              Person search  ...                                    False\n",
              "3              Person search  ...                                    False\n",
              "4              Person search  ...                                    False\n",
              "\n",
              "[5 rows x 15 columns]"
            ]
          },
          "metadata": {
            "tags": []
          },
          "execution_count": 24
        }
      ]
    },
    {
      "cell_type": "code",
      "metadata": {
        "colab": {
          "base_uri": "https://localhost:8080/",
          "height": 635
        },
        "id": "C-A9YqEDeS6B",
        "outputId": "23225fc2-71d8-4782-87f0-8c755a10fc96"
      },
      "source": [
        "#This dataset describes the stop and search reported in North Wales\r\n",
        "s2 = pd.read_csv(\"https://raw.githubusercontent.com/SudheenaMisra/githubCE888/main/data_ce888/2021-01-north-wales-stop-and-search.csv\")\r\n",
        "s2.head()"
      ],
      "execution_count": 25,
      "outputs": [
        {
          "output_type": "execute_result",
          "data": {
            "text/html": [
              "<div>\n",
              "<style scoped>\n",
              "    .dataframe tbody tr th:only-of-type {\n",
              "        vertical-align: middle;\n",
              "    }\n",
              "\n",
              "    .dataframe tbody tr th {\n",
              "        vertical-align: top;\n",
              "    }\n",
              "\n",
              "    .dataframe thead th {\n",
              "        text-align: right;\n",
              "    }\n",
              "</style>\n",
              "<table border=\"1\" class=\"dataframe\">\n",
              "  <thead>\n",
              "    <tr style=\"text-align: right;\">\n",
              "      <th></th>\n",
              "      <th>Type</th>\n",
              "      <th>Date</th>\n",
              "      <th>Part of a policing operation</th>\n",
              "      <th>Policing operation</th>\n",
              "      <th>Latitude</th>\n",
              "      <th>Longitude</th>\n",
              "      <th>Gender</th>\n",
              "      <th>Age range</th>\n",
              "      <th>Self-defined ethnicity</th>\n",
              "      <th>Officer-defined ethnicity</th>\n",
              "      <th>Legislation</th>\n",
              "      <th>Object of search</th>\n",
              "      <th>Outcome</th>\n",
              "      <th>Outcome linked to object of search</th>\n",
              "      <th>Removal of more than just outer clothing</th>\n",
              "    </tr>\n",
              "  </thead>\n",
              "  <tbody>\n",
              "    <tr>\n",
              "      <th>0</th>\n",
              "      <td>Person search</td>\n",
              "      <td>2021-01-01T00:00:00+00:00</td>\n",
              "      <td>NaN</td>\n",
              "      <td>NaN</td>\n",
              "      <td>53.307770</td>\n",
              "      <td>-3.517491</td>\n",
              "      <td>Male</td>\n",
              "      <td>18-24</td>\n",
              "      <td>White - English/Welsh/Scottish/Northern Irish/...</td>\n",
              "      <td>White</td>\n",
              "      <td>Police and Criminal Evidence Act 1984 (section 1)</td>\n",
              "      <td>Offensive weapons</td>\n",
              "      <td>Arrest</td>\n",
              "      <td>True</td>\n",
              "      <td>False</td>\n",
              "    </tr>\n",
              "    <tr>\n",
              "      <th>1</th>\n",
              "      <td>Person search</td>\n",
              "      <td>2021-01-01T06:13:00+00:00</td>\n",
              "      <td>NaN</td>\n",
              "      <td>NaN</td>\n",
              "      <td>53.293639</td>\n",
              "      <td>-3.579722</td>\n",
              "      <td>Male</td>\n",
              "      <td>18-24</td>\n",
              "      <td>Other ethnic group - Not stated</td>\n",
              "      <td>White</td>\n",
              "      <td>Police and Criminal Evidence Act 1984 (section 1)</td>\n",
              "      <td>Offensive weapons</td>\n",
              "      <td>Arrest</td>\n",
              "      <td>True</td>\n",
              "      <td>False</td>\n",
              "    </tr>\n",
              "    <tr>\n",
              "      <th>2</th>\n",
              "      <td>Person search</td>\n",
              "      <td>2021-01-02T03:00:00+00:00</td>\n",
              "      <td>NaN</td>\n",
              "      <td>NaN</td>\n",
              "      <td>53.284362</td>\n",
              "      <td>-3.201265</td>\n",
              "      <td>Male</td>\n",
              "      <td>25-34</td>\n",
              "      <td>White - English/Welsh/Scottish/Northern Irish/...</td>\n",
              "      <td>White</td>\n",
              "      <td>Police and Criminal Evidence Act 1984 (section 1)</td>\n",
              "      <td>Article for use in theft</td>\n",
              "      <td>A no further action disposal</td>\n",
              "      <td>False</td>\n",
              "      <td>False</td>\n",
              "    </tr>\n",
              "    <tr>\n",
              "      <th>3</th>\n",
              "      <td>Person search</td>\n",
              "      <td>2021-01-02T04:05:00+00:00</td>\n",
              "      <td>NaN</td>\n",
              "      <td>NaN</td>\n",
              "      <td>53.299584</td>\n",
              "      <td>-3.738467</td>\n",
              "      <td>Male</td>\n",
              "      <td>over 34</td>\n",
              "      <td>White - English/Welsh/Scottish/Northern Irish/...</td>\n",
              "      <td>White</td>\n",
              "      <td>Police and Criminal Evidence Act 1984 (section 1)</td>\n",
              "      <td>Article for use in theft</td>\n",
              "      <td>Arrest</td>\n",
              "      <td>True</td>\n",
              "      <td>False</td>\n",
              "    </tr>\n",
              "    <tr>\n",
              "      <th>4</th>\n",
              "      <td>Person search</td>\n",
              "      <td>2021-01-02T04:20:00+00:00</td>\n",
              "      <td>NaN</td>\n",
              "      <td>NaN</td>\n",
              "      <td>53.293626</td>\n",
              "      <td>-3.725937</td>\n",
              "      <td>Male</td>\n",
              "      <td>18-24</td>\n",
              "      <td>White - English/Welsh/Scottish/Northern Irish/...</td>\n",
              "      <td>White</td>\n",
              "      <td>Police and Criminal Evidence Act 1984 (section 1)</td>\n",
              "      <td>Stolen goods</td>\n",
              "      <td>A no further action disposal</td>\n",
              "      <td>False</td>\n",
              "      <td>False</td>\n",
              "    </tr>\n",
              "  </tbody>\n",
              "</table>\n",
              "</div>"
            ],
            "text/plain": [
              "            Type  ... Removal of more than just outer clothing\n",
              "0  Person search  ...                                    False\n",
              "1  Person search  ...                                    False\n",
              "2  Person search  ...                                    False\n",
              "3  Person search  ...                                    False\n",
              "4  Person search  ...                                    False\n",
              "\n",
              "[5 rows x 15 columns]"
            ]
          },
          "metadata": {
            "tags": []
          },
          "execution_count": 25
        }
      ]
    },
    {
      "cell_type": "code",
      "metadata": {
        "id": "rCpZyRNqecoe"
      },
      "source": [
        "#Concatenating London and North Wales stop and serach datasets\r\n",
        "s3 = pd.concat([s1,s2])"
      ],
      "execution_count": 26,
      "outputs": []
    },
    {
      "cell_type": "code",
      "metadata": {
        "colab": {
          "base_uri": "https://localhost:8080/"
        },
        "id": "4NmIxRP7ei0d",
        "outputId": "b5148693-774c-4b19-b9ae-3390de2841d2"
      },
      "source": [
        "s3.info()\r\n",
        "s3.shape"
      ],
      "execution_count": 10,
      "outputs": [
        {
          "output_type": "stream",
          "text": [
            "<class 'pandas.core.frame.DataFrame'>\n",
            "Int64Index: 427 entries, 0 to 291\n",
            "Data columns (total 15 columns):\n",
            " #   Column                                    Non-Null Count  Dtype  \n",
            "---  ------                                    --------------  -----  \n",
            " 0   Type                                      427 non-null    object \n",
            " 1   Date                                      427 non-null    object \n",
            " 2   Part of a policing operation              0 non-null      float64\n",
            " 3   Policing operation                        0 non-null      float64\n",
            " 4   Latitude                                  399 non-null    float64\n",
            " 5   Longitude                                 399 non-null    float64\n",
            " 6   Gender                                    427 non-null    object \n",
            " 7   Age range                                 422 non-null    object \n",
            " 8   Self-defined ethnicity                    404 non-null    object \n",
            " 9   Officer-defined ethnicity                 422 non-null    object \n",
            " 10  Legislation                               423 non-null    object \n",
            " 11  Object of search                          427 non-null    object \n",
            " 12  Outcome                                   388 non-null    object \n",
            " 13  Outcome linked to object of search        427 non-null    bool   \n",
            " 14  Removal of more than just outer clothing  427 non-null    bool   \n",
            "dtypes: bool(2), float64(4), object(9)\n",
            "memory usage: 47.5+ KB\n"
          ],
          "name": "stdout"
        },
        {
          "output_type": "execute_result",
          "data": {
            "text/plain": [
              "(427, 15)"
            ]
          },
          "metadata": {
            "tags": []
          },
          "execution_count": 10
        }
      ]
    },
    {
      "cell_type": "markdown",
      "metadata": {
        "id": "y6n_XUB2fv3e"
      },
      "source": [
        "#The dataset for analysis"
      ]
    },
    {
      "cell_type": "code",
      "metadata": {
        "id": "ApV8QTFXkZZN",
        "colab": {
          "base_uri": "https://localhost:8080/",
          "height": 467
        },
        "outputId": "285818ff-0b9e-4666-e72b-ed36bdcfde5e"
      },
      "source": [
        "#Here we are merging the crime and outcome data of both London and North Wales  \r\n",
        "dat = pd.merge(d3,o3,how='inner', on='Crime ID')\r\n",
        "dat.head()"
      ],
      "execution_count": 29,
      "outputs": [
        {
          "output_type": "execute_result",
          "data": {
            "text/html": [
              "<div>\n",
              "<style scoped>\n",
              "    .dataframe tbody tr th:only-of-type {\n",
              "        vertical-align: middle;\n",
              "    }\n",
              "\n",
              "    .dataframe tbody tr th {\n",
              "        vertical-align: top;\n",
              "    }\n",
              "\n",
              "    .dataframe thead th {\n",
              "        text-align: right;\n",
              "    }\n",
              "</style>\n",
              "<table border=\"1\" class=\"dataframe\">\n",
              "  <thead>\n",
              "    <tr style=\"text-align: right;\">\n",
              "      <th></th>\n",
              "      <th>Crime ID</th>\n",
              "      <th>Month_x</th>\n",
              "      <th>Reported by_x</th>\n",
              "      <th>Falls within_x</th>\n",
              "      <th>Longitude_x</th>\n",
              "      <th>Latitude_x</th>\n",
              "      <th>Location_x</th>\n",
              "      <th>LSOA code_x</th>\n",
              "      <th>LSOA name_x</th>\n",
              "      <th>Crime type</th>\n",
              "      <th>Last outcome category</th>\n",
              "      <th>Context</th>\n",
              "      <th>Month_y</th>\n",
              "      <th>Reported by_y</th>\n",
              "      <th>Falls within_y</th>\n",
              "      <th>Longitude_y</th>\n",
              "      <th>Latitude_y</th>\n",
              "      <th>Location_y</th>\n",
              "      <th>LSOA code_y</th>\n",
              "      <th>LSOA name_y</th>\n",
              "      <th>Outcome type</th>\n",
              "    </tr>\n",
              "  </thead>\n",
              "  <tbody>\n",
              "    <tr>\n",
              "      <th>0</th>\n",
              "      <td>61406a16e68ad9aecf168a7eaf7cfcf3c848494a1868b4...</td>\n",
              "      <td>2020-12</td>\n",
              "      <td>City of London Police</td>\n",
              "      <td>City of London Police</td>\n",
              "      <td>-0.111962</td>\n",
              "      <td>51.518494</td>\n",
              "      <td>On or near Nightclub</td>\n",
              "      <td>E01000914</td>\n",
              "      <td>Camden 028B</td>\n",
              "      <td>Theft from the person</td>\n",
              "      <td>Under investigation</td>\n",
              "      <td>NaN</td>\n",
              "      <td>2021-01</td>\n",
              "      <td>City of London Police</td>\n",
              "      <td>City of London Police</td>\n",
              "      <td>-0.111962</td>\n",
              "      <td>51.518494</td>\n",
              "      <td>On or near Nightclub</td>\n",
              "      <td>E01000914</td>\n",
              "      <td>Camden 028B</td>\n",
              "      <td>Investigation complete; no suspect identified</td>\n",
              "    </tr>\n",
              "    <tr>\n",
              "      <th>1</th>\n",
              "      <td>252b01412a8c0130c4480616535876e7ef18300fe922df...</td>\n",
              "      <td>2020-12</td>\n",
              "      <td>City of London Police</td>\n",
              "      <td>City of London Police</td>\n",
              "      <td>-0.098572</td>\n",
              "      <td>51.516767</td>\n",
              "      <td>On or near King Edward Street</td>\n",
              "      <td>E01000001</td>\n",
              "      <td>City of London 001A</td>\n",
              "      <td>Possession of weapons</td>\n",
              "      <td>Under investigation</td>\n",
              "      <td>NaN</td>\n",
              "      <td>2021-01</td>\n",
              "      <td>City of London Police</td>\n",
              "      <td>City of London Police</td>\n",
              "      <td>-0.098572</td>\n",
              "      <td>51.516767</td>\n",
              "      <td>On or near KING EDWARD STREET</td>\n",
              "      <td>E01000001</td>\n",
              "      <td>City of London 001A</td>\n",
              "      <td>Local resolution</td>\n",
              "    </tr>\n",
              "    <tr>\n",
              "      <th>2</th>\n",
              "      <td>7a3a400707ec99220833d38d64bfae2a17119b72246f6c...</td>\n",
              "      <td>2020-12</td>\n",
              "      <td>City of London Police</td>\n",
              "      <td>City of London Police</td>\n",
              "      <td>-0.093933</td>\n",
              "      <td>51.519812</td>\n",
              "      <td>On or near Conference/Exhibition Centre</td>\n",
              "      <td>E01000002</td>\n",
              "      <td>City of London 001B</td>\n",
              "      <td>Criminal damage and arson</td>\n",
              "      <td>Under investigation</td>\n",
              "      <td>NaN</td>\n",
              "      <td>2021-01</td>\n",
              "      <td>City of London Police</td>\n",
              "      <td>City of London Police</td>\n",
              "      <td>-0.093933</td>\n",
              "      <td>51.519812</td>\n",
              "      <td>On or near Conference/Exhibition Centre</td>\n",
              "      <td>E01000002</td>\n",
              "      <td>City of London 001B</td>\n",
              "      <td>Investigation complete; no suspect identified</td>\n",
              "    </tr>\n",
              "    <tr>\n",
              "      <th>3</th>\n",
              "      <td>5255776d376a371cade6af128f48b42af01a91ad28fb61...</td>\n",
              "      <td>2020-12</td>\n",
              "      <td>City of London Police</td>\n",
              "      <td>City of London Police</td>\n",
              "      <td>-0.088621</td>\n",
              "      <td>51.518619</td>\n",
              "      <td>On or near Moorfields</td>\n",
              "      <td>E01000002</td>\n",
              "      <td>City of London 001B</td>\n",
              "      <td>Other theft</td>\n",
              "      <td>Under investigation</td>\n",
              "      <td>NaN</td>\n",
              "      <td>2021-01</td>\n",
              "      <td>City of London Police</td>\n",
              "      <td>City of London Police</td>\n",
              "      <td>-0.088621</td>\n",
              "      <td>51.518619</td>\n",
              "      <td>On or near MOORFIELDS</td>\n",
              "      <td>E01000002</td>\n",
              "      <td>City of London 001B</td>\n",
              "      <td>Investigation complete; no suspect identified</td>\n",
              "    </tr>\n",
              "    <tr>\n",
              "      <th>4</th>\n",
              "      <td>1c6db02e2db628d452bd18914faf0e8cad9007001f58c3...</td>\n",
              "      <td>2020-12</td>\n",
              "      <td>City of London Police</td>\n",
              "      <td>City of London Police</td>\n",
              "      <td>-0.092723</td>\n",
              "      <td>51.517032</td>\n",
              "      <td>On or near Aldermanbury Square</td>\n",
              "      <td>E01000002</td>\n",
              "      <td>City of London 001B</td>\n",
              "      <td>Violence and sexual offences</td>\n",
              "      <td>Under investigation</td>\n",
              "      <td>NaN</td>\n",
              "      <td>2021-01</td>\n",
              "      <td>City of London Police</td>\n",
              "      <td>City of London Police</td>\n",
              "      <td>-0.092723</td>\n",
              "      <td>51.517032</td>\n",
              "      <td>On or near ALDERMANBURY SQUARE</td>\n",
              "      <td>E01000002</td>\n",
              "      <td>City of London 001B</td>\n",
              "      <td>Unable to prosecute suspect</td>\n",
              "    </tr>\n",
              "  </tbody>\n",
              "</table>\n",
              "</div>"
            ],
            "text/plain": [
              "                                            Crime ID  ...                                   Outcome type\n",
              "0  61406a16e68ad9aecf168a7eaf7cfcf3c848494a1868b4...  ...  Investigation complete; no suspect identified\n",
              "1  252b01412a8c0130c4480616535876e7ef18300fe922df...  ...                               Local resolution\n",
              "2  7a3a400707ec99220833d38d64bfae2a17119b72246f6c...  ...  Investigation complete; no suspect identified\n",
              "3  5255776d376a371cade6af128f48b42af01a91ad28fb61...  ...  Investigation complete; no suspect identified\n",
              "4  1c6db02e2db628d452bd18914faf0e8cad9007001f58c3...  ...                    Unable to prosecute suspect\n",
              "\n",
              "[5 rows x 21 columns]"
            ]
          },
          "metadata": {
            "tags": []
          },
          "execution_count": 29
        }
      ]
    },
    {
      "cell_type": "markdown",
      "metadata": {
        "id": "BoMtk6NsmvKp"
      },
      "source": [
        "###Here we are going to get our main dataset that we going to work with."
      ]
    },
    {
      "cell_type": "code",
      "metadata": {
        "id": "DImZPkXXeX2j"
      },
      "source": [
        "#Here Joining stop and search data with crime and outcome data\r\n",
        " #ds is our main dataset that we will be analyzing later on.\r\n",
        "ds = dat.join(s3) "
      ],
      "execution_count": 30,
      "outputs": []
    },
    {
      "cell_type": "code",
      "metadata": {
        "colab": {
          "base_uri": "https://localhost:8080/",
          "height": 585
        },
        "id": "NVfULYj9e3Hs",
        "outputId": "05129e35-fc61-4bf0-fd0f-83104b22178b"
      },
      "source": [
        "ds.head()"
      ],
      "execution_count": 31,
      "outputs": [
        {
          "output_type": "execute_result",
          "data": {
            "text/html": [
              "<div>\n",
              "<style scoped>\n",
              "    .dataframe tbody tr th:only-of-type {\n",
              "        vertical-align: middle;\n",
              "    }\n",
              "\n",
              "    .dataframe tbody tr th {\n",
              "        vertical-align: top;\n",
              "    }\n",
              "\n",
              "    .dataframe thead th {\n",
              "        text-align: right;\n",
              "    }\n",
              "</style>\n",
              "<table border=\"1\" class=\"dataframe\">\n",
              "  <thead>\n",
              "    <tr style=\"text-align: right;\">\n",
              "      <th></th>\n",
              "      <th>Crime ID</th>\n",
              "      <th>Month_x</th>\n",
              "      <th>Reported by_x</th>\n",
              "      <th>Falls within_x</th>\n",
              "      <th>Longitude_x</th>\n",
              "      <th>Latitude_x</th>\n",
              "      <th>Location_x</th>\n",
              "      <th>LSOA code_x</th>\n",
              "      <th>LSOA name_x</th>\n",
              "      <th>Crime type</th>\n",
              "      <th>Last outcome category</th>\n",
              "      <th>Context</th>\n",
              "      <th>Month_y</th>\n",
              "      <th>Reported by_y</th>\n",
              "      <th>Falls within_y</th>\n",
              "      <th>Longitude_y</th>\n",
              "      <th>Latitude_y</th>\n",
              "      <th>Location_y</th>\n",
              "      <th>LSOA code_y</th>\n",
              "      <th>LSOA name_y</th>\n",
              "      <th>Outcome type</th>\n",
              "      <th>Type</th>\n",
              "      <th>Date</th>\n",
              "      <th>Part of a policing operation</th>\n",
              "      <th>Policing operation</th>\n",
              "      <th>Latitude</th>\n",
              "      <th>Longitude</th>\n",
              "      <th>Gender</th>\n",
              "      <th>Age range</th>\n",
              "      <th>Self-defined ethnicity</th>\n",
              "      <th>Officer-defined ethnicity</th>\n",
              "      <th>Legislation</th>\n",
              "      <th>Object of search</th>\n",
              "      <th>Outcome</th>\n",
              "      <th>Outcome linked to object of search</th>\n",
              "      <th>Removal of more than just outer clothing</th>\n",
              "    </tr>\n",
              "  </thead>\n",
              "  <tbody>\n",
              "    <tr>\n",
              "      <th>0</th>\n",
              "      <td>61406a16e68ad9aecf168a7eaf7cfcf3c848494a1868b4...</td>\n",
              "      <td>2020-12</td>\n",
              "      <td>City of London Police</td>\n",
              "      <td>City of London Police</td>\n",
              "      <td>-0.111962</td>\n",
              "      <td>51.518494</td>\n",
              "      <td>On or near Nightclub</td>\n",
              "      <td>E01000914</td>\n",
              "      <td>Camden 028B</td>\n",
              "      <td>Theft from the person</td>\n",
              "      <td>Under investigation</td>\n",
              "      <td>NaN</td>\n",
              "      <td>2021-01</td>\n",
              "      <td>City of London Police</td>\n",
              "      <td>City of London Police</td>\n",
              "      <td>-0.111962</td>\n",
              "      <td>51.518494</td>\n",
              "      <td>On or near Nightclub</td>\n",
              "      <td>E01000914</td>\n",
              "      <td>Camden 028B</td>\n",
              "      <td>Investigation complete; no suspect identified</td>\n",
              "      <td>Person and Vehicle search</td>\n",
              "      <td>2021-01-01T01:41:28+00:00</td>\n",
              "      <td>NaN</td>\n",
              "      <td>NaN</td>\n",
              "      <td>51.517680</td>\n",
              "      <td>-0.078484</td>\n",
              "      <td>Male</td>\n",
              "      <td>18-24</td>\n",
              "      <td>Other ethnic group - Not stated</td>\n",
              "      <td>Black</td>\n",
              "      <td>Misuse of Drugs Act 1971 (section 23)</td>\n",
              "      <td>Controlled drugs</td>\n",
              "      <td>Summons / charged by post</td>\n",
              "      <td>True</td>\n",
              "      <td>False</td>\n",
              "    </tr>\n",
              "    <tr>\n",
              "      <th>0</th>\n",
              "      <td>61406a16e68ad9aecf168a7eaf7cfcf3c848494a1868b4...</td>\n",
              "      <td>2020-12</td>\n",
              "      <td>City of London Police</td>\n",
              "      <td>City of London Police</td>\n",
              "      <td>-0.111962</td>\n",
              "      <td>51.518494</td>\n",
              "      <td>On or near Nightclub</td>\n",
              "      <td>E01000914</td>\n",
              "      <td>Camden 028B</td>\n",
              "      <td>Theft from the person</td>\n",
              "      <td>Under investigation</td>\n",
              "      <td>NaN</td>\n",
              "      <td>2021-01</td>\n",
              "      <td>City of London Police</td>\n",
              "      <td>City of London Police</td>\n",
              "      <td>-0.111962</td>\n",
              "      <td>51.518494</td>\n",
              "      <td>On or near Nightclub</td>\n",
              "      <td>E01000914</td>\n",
              "      <td>Camden 028B</td>\n",
              "      <td>Investigation complete; no suspect identified</td>\n",
              "      <td>Person search</td>\n",
              "      <td>2021-01-01T00:00:00+00:00</td>\n",
              "      <td>NaN</td>\n",
              "      <td>NaN</td>\n",
              "      <td>53.307770</td>\n",
              "      <td>-3.517491</td>\n",
              "      <td>Male</td>\n",
              "      <td>18-24</td>\n",
              "      <td>White - English/Welsh/Scottish/Northern Irish/...</td>\n",
              "      <td>White</td>\n",
              "      <td>Police and Criminal Evidence Act 1984 (section 1)</td>\n",
              "      <td>Offensive weapons</td>\n",
              "      <td>Arrest</td>\n",
              "      <td>True</td>\n",
              "      <td>False</td>\n",
              "    </tr>\n",
              "    <tr>\n",
              "      <th>1</th>\n",
              "      <td>252b01412a8c0130c4480616535876e7ef18300fe922df...</td>\n",
              "      <td>2020-12</td>\n",
              "      <td>City of London Police</td>\n",
              "      <td>City of London Police</td>\n",
              "      <td>-0.098572</td>\n",
              "      <td>51.516767</td>\n",
              "      <td>On or near King Edward Street</td>\n",
              "      <td>E01000001</td>\n",
              "      <td>City of London 001A</td>\n",
              "      <td>Possession of weapons</td>\n",
              "      <td>Under investigation</td>\n",
              "      <td>NaN</td>\n",
              "      <td>2021-01</td>\n",
              "      <td>City of London Police</td>\n",
              "      <td>City of London Police</td>\n",
              "      <td>-0.098572</td>\n",
              "      <td>51.516767</td>\n",
              "      <td>On or near KING EDWARD STREET</td>\n",
              "      <td>E01000001</td>\n",
              "      <td>City of London 001A</td>\n",
              "      <td>Local resolution</td>\n",
              "      <td>Person search</td>\n",
              "      <td>2021-01-01T03:40:20+00:00</td>\n",
              "      <td>NaN</td>\n",
              "      <td>NaN</td>\n",
              "      <td>NaN</td>\n",
              "      <td>NaN</td>\n",
              "      <td>Male</td>\n",
              "      <td>10-17</td>\n",
              "      <td>Other ethnic group - Not stated</td>\n",
              "      <td>Asian</td>\n",
              "      <td>Misuse of Drugs Act 1971 (section 23)</td>\n",
              "      <td>Controlled drugs</td>\n",
              "      <td>A no further action disposal</td>\n",
              "      <td>False</td>\n",
              "      <td>False</td>\n",
              "    </tr>\n",
              "    <tr>\n",
              "      <th>1</th>\n",
              "      <td>252b01412a8c0130c4480616535876e7ef18300fe922df...</td>\n",
              "      <td>2020-12</td>\n",
              "      <td>City of London Police</td>\n",
              "      <td>City of London Police</td>\n",
              "      <td>-0.098572</td>\n",
              "      <td>51.516767</td>\n",
              "      <td>On or near King Edward Street</td>\n",
              "      <td>E01000001</td>\n",
              "      <td>City of London 001A</td>\n",
              "      <td>Possession of weapons</td>\n",
              "      <td>Under investigation</td>\n",
              "      <td>NaN</td>\n",
              "      <td>2021-01</td>\n",
              "      <td>City of London Police</td>\n",
              "      <td>City of London Police</td>\n",
              "      <td>-0.098572</td>\n",
              "      <td>51.516767</td>\n",
              "      <td>On or near KING EDWARD STREET</td>\n",
              "      <td>E01000001</td>\n",
              "      <td>City of London 001A</td>\n",
              "      <td>Local resolution</td>\n",
              "      <td>Person search</td>\n",
              "      <td>2021-01-01T06:13:00+00:00</td>\n",
              "      <td>NaN</td>\n",
              "      <td>NaN</td>\n",
              "      <td>53.293639</td>\n",
              "      <td>-3.579722</td>\n",
              "      <td>Male</td>\n",
              "      <td>18-24</td>\n",
              "      <td>Other ethnic group - Not stated</td>\n",
              "      <td>White</td>\n",
              "      <td>Police and Criminal Evidence Act 1984 (section 1)</td>\n",
              "      <td>Offensive weapons</td>\n",
              "      <td>Arrest</td>\n",
              "      <td>True</td>\n",
              "      <td>False</td>\n",
              "    </tr>\n",
              "    <tr>\n",
              "      <th>2</th>\n",
              "      <td>7a3a400707ec99220833d38d64bfae2a17119b72246f6c...</td>\n",
              "      <td>2020-12</td>\n",
              "      <td>City of London Police</td>\n",
              "      <td>City of London Police</td>\n",
              "      <td>-0.093933</td>\n",
              "      <td>51.519812</td>\n",
              "      <td>On or near Conference/Exhibition Centre</td>\n",
              "      <td>E01000002</td>\n",
              "      <td>City of London 001B</td>\n",
              "      <td>Criminal damage and arson</td>\n",
              "      <td>Under investigation</td>\n",
              "      <td>NaN</td>\n",
              "      <td>2021-01</td>\n",
              "      <td>City of London Police</td>\n",
              "      <td>City of London Police</td>\n",
              "      <td>-0.093933</td>\n",
              "      <td>51.519812</td>\n",
              "      <td>On or near Conference/Exhibition Centre</td>\n",
              "      <td>E01000002</td>\n",
              "      <td>City of London 001B</td>\n",
              "      <td>Investigation complete; no suspect identified</td>\n",
              "      <td>Person search</td>\n",
              "      <td>2021-01-01T03:48:41+00:00</td>\n",
              "      <td>NaN</td>\n",
              "      <td>NaN</td>\n",
              "      <td>NaN</td>\n",
              "      <td>NaN</td>\n",
              "      <td>Male</td>\n",
              "      <td>18-24</td>\n",
              "      <td>Other ethnic group - Not stated</td>\n",
              "      <td>Other</td>\n",
              "      <td>Misuse of Drugs Act 1971 (section 23)</td>\n",
              "      <td>Controlled drugs</td>\n",
              "      <td>A no further action disposal</td>\n",
              "      <td>False</td>\n",
              "      <td>False</td>\n",
              "    </tr>\n",
              "  </tbody>\n",
              "</table>\n",
              "</div>"
            ],
            "text/plain": [
              "                                            Crime ID  ... Removal of more than just outer clothing\n",
              "0  61406a16e68ad9aecf168a7eaf7cfcf3c848494a1868b4...  ...                                    False\n",
              "0  61406a16e68ad9aecf168a7eaf7cfcf3c848494a1868b4...  ...                                    False\n",
              "1  252b01412a8c0130c4480616535876e7ef18300fe922df...  ...                                    False\n",
              "1  252b01412a8c0130c4480616535876e7ef18300fe922df...  ...                                    False\n",
              "2  7a3a400707ec99220833d38d64bfae2a17119b72246f6c...  ...                                    False\n",
              "\n",
              "[5 rows x 36 columns]"
            ]
          },
          "metadata": {
            "tags": []
          },
          "execution_count": 31
        }
      ]
    },
    {
      "cell_type": "code",
      "metadata": {
        "colab": {
          "base_uri": "https://localhost:8080/"
        },
        "id": "yg9CO2Q29r2Z",
        "outputId": "66d6d046-58ba-4712-d5d3-d327c11cb13c"
      },
      "source": [
        "#Checking column names\r\n",
        "ds.columns"
      ],
      "execution_count": 32,
      "outputs": [
        {
          "output_type": "execute_result",
          "data": {
            "text/plain": [
              "Index(['Crime ID', 'Month_x', 'Reported by_x', 'Falls within_x', 'Longitude_x',\n",
              "       'Latitude_x', 'Location_x', 'LSOA code_x', 'LSOA name_x', 'Crime type',\n",
              "       'Last outcome category', 'Context', 'Month_y', 'Reported by_y',\n",
              "       'Falls within_y', 'Longitude_y', 'Latitude_y', 'Location_y',\n",
              "       'LSOA code_y', 'LSOA name_y', 'Outcome type', 'Type', 'Date',\n",
              "       'Part of a policing operation', 'Policing operation', 'Latitude',\n",
              "       'Longitude', 'Gender', 'Age range', 'Self-defined ethnicity',\n",
              "       'Officer-defined ethnicity', 'Legislation', 'Object of search',\n",
              "       'Outcome', 'Outcome linked to object of search',\n",
              "       'Removal of more than just outer clothing'],\n",
              "      dtype='object')"
            ]
          },
          "metadata": {
            "tags": []
          },
          "execution_count": 32
        }
      ]
    },
    {
      "cell_type": "code",
      "metadata": {
        "colab": {
          "base_uri": "https://localhost:8080/"
        },
        "id": "3zDb7MKm-dk8",
        "outputId": "83000d66-c82f-4164-ab13-1ad584fb6a9f"
      },
      "source": [
        "# Check to see if column names are duplicated\r\n",
        "ds.columns.duplicated()"
      ],
      "execution_count": 33,
      "outputs": [
        {
          "output_type": "execute_result",
          "data": {
            "text/plain": [
              "array([False, False, False, False, False, False, False, False, False,\n",
              "       False, False, False, False, False, False, False, False, False,\n",
              "       False, False, False, False, False, False, False, False, False,\n",
              "       False, False, False, False, False, False, False, False, False])"
            ]
          },
          "metadata": {
            "tags": []
          },
          "execution_count": 33
        }
      ]
    },
    {
      "cell_type": "markdown",
      "metadata": {
        "id": "JfWQI4TugCeg"
      },
      "source": [
        "###To calculate the missing values in the dataset"
      ]
    },
    {
      "cell_type": "code",
      "metadata": {
        "colab": {
          "base_uri": "https://localhost:8080/"
        },
        "id": "3C_t8wsMghZ8",
        "outputId": "a0521727-d8e1-480d-bb69-1da43e1288b3"
      },
      "source": [
        "# Calculate total number of cells in dataframe\r\n",
        "totalCells =  np.product(ds.shape)\r\n",
        "print(\"The total number of cells is \",totalCells)\r\n",
        "\r\n",
        "# Count number of missing values per column\r\n",
        "missingCount = ds.isnull().sum()\r\n",
        "print(\"Number of missing values per column is \")\r\n",
        "print(missingCount)\r\n",
        "\r\n",
        "# Calculate total number of missing values\r\n",
        "totalMissing = missingCount.sum()\r\n",
        "print(\"The total number of missing values is \",totalMissing)\r\n",
        "\r\n",
        "# Calculate percentage of missing values\r\n",
        "print(\"The data contains\", round(((totalMissing/totalCells)*100),2),\"%\",\"missing values \")\r\n",
        "\r\n",
        "\r\n"
      ],
      "execution_count": 34,
      "outputs": [
        {
          "output_type": "stream",
          "text": [
            "The total number of cells is  46512\n",
            "Number of missing values per column is \n",
            "Crime ID                                       0\n",
            "Month_x                                        0\n",
            "Reported by_x                                  0\n",
            "Falls within_x                                 0\n",
            "Longitude_x                                    6\n",
            "Latitude_x                                     6\n",
            "Location_x                                     0\n",
            "LSOA code_x                                    6\n",
            "LSOA name_x                                    6\n",
            "Crime type                                     0\n",
            "Last outcome category                          0\n",
            "Context                                     1292\n",
            "Month_y                                        0\n",
            "Reported by_y                                  0\n",
            "Falls within_y                                 0\n",
            "Longitude_y                                    6\n",
            "Latitude_y                                     6\n",
            "Location_y                                     0\n",
            "LSOA code_y                                    6\n",
            "LSOA name_y                                    6\n",
            "Outcome type                                   0\n",
            "Type                                         865\n",
            "Date                                         865\n",
            "Part of a policing operation                1292\n",
            "Policing operation                          1292\n",
            "Latitude                                     893\n",
            "Longitude                                    893\n",
            "Gender                                       865\n",
            "Age range                                    870\n",
            "Self-defined ethnicity                       888\n",
            "Officer-defined ethnicity                    870\n",
            "Legislation                                  869\n",
            "Object of search                             865\n",
            "Outcome                                      904\n",
            "Outcome linked to object of search           865\n",
            "Removal of more than just outer clothing     865\n",
            "dtype: int64\n",
            "The total number of missing values is  15301\n",
            "The data contains 32.9 % missing values \n"
          ],
          "name": "stdout"
        }
      ]
    },
    {
      "cell_type": "markdown",
      "metadata": {
        "id": "tFg6YgiGnFE_"
      },
      "source": [
        "Look at the columns \"Context\", \"part of a policing operation\"and \"policing operation\" from ds. All of these contain more number of missing values. Which, if either, of these are missing because they don't exist? Which, if either, are missing because they weren't recorded?"
      ]
    },
    {
      "cell_type": "code",
      "metadata": {
        "colab": {
          "base_uri": "https://localhost:8080/"
        },
        "id": "hZnHGG4voSFL",
        "outputId": "0edcec54-8e79-4733-e0c8-2c3b0d6abd7a"
      },
      "source": [
        "missingCount[[\"Context\",\"Part of a policing operation\",\"Policing operation\"]]"
      ],
      "execution_count": 35,
      "outputs": [
        {
          "output_type": "execute_result",
          "data": {
            "text/plain": [
              "Context                         1292\n",
              "Part of a policing operation    1292\n",
              "Policing operation              1292\n",
              "dtype: int64"
            ]
          },
          "metadata": {
            "tags": []
          },
          "execution_count": 35
        }
      ]
    },
    {
      "cell_type": "code",
      "metadata": {
        "colab": {
          "base_uri": "https://localhost:8080/"
        },
        "id": "lQrN5GSL5uy7",
        "outputId": "198968c6-8b09-4e00-d0bd-76496f98a7c0"
      },
      "source": [
        "#checking the number of rows\r\n",
        "ds.shape[0]"
      ],
      "execution_count": null,
      "outputs": [
        {
          "output_type": "execute_result",
          "data": {
            "text/plain": [
              "1292"
            ]
          },
          "metadata": {
            "tags": []
          },
          "execution_count": 111
        }
      ]
    },
    {
      "cell_type": "code",
      "metadata": {
        "colab": {
          "base_uri": "https://localhost:8080/"
        },
        "id": "9sUG9LZ6q5SG",
        "outputId": "8b7e8ef7-2c89-4592-cdf5-897288e9ff3f"
      },
      "source": [
        "#Let's check out the percentage of missing values in these columns\r\n",
        "print(\"Percentage missing data in Context column =\", (round(((missingCount['Context'] / ds.shape[0]) * 100), 2)))\r\n",
        "print(\"percentage missing data in Part of a policing operation column =\",(round(((missingCount[\"Part of a policing operation\"]/ds.shape[0])*100),2)))\r\n",
        "print(\"Percentage missing data in Policing operation =\", (round(((missingCount['Policing operation'] / ds.shape[0]) * 100), 2)))\r\n"
      ],
      "execution_count": 36,
      "outputs": [
        {
          "output_type": "stream",
          "text": [
            "Percentage missing data in Context column = 100.0\n",
            "percentage missing data in Part of a policing operation column = 100.0\n",
            "Percentage missing data in Policing operation = 100.0\n"
          ],
          "name": "stdout"
        }
      ]
    },
    {
      "cell_type": "markdown",
      "metadata": {
        "id": "YXNuUG1bMYb9"
      },
      "source": [
        "####Since all these columns are full of missing values. we may decide to remove these. We notice that the column \"Falls within_x\" and \"Reported by_x\" is same,So we could also drop any of these. \r\n",
        "\r\n",
        "\r\n",
        "\r\n"
      ]
    },
    {
      "cell_type": "code",
      "metadata": {
        "id": "1dmKllY2r3s1"
      },
      "source": [
        "ds.drop([\"Context\",\"Part of a policing operation\",\"Policing operation\",\"Falls within_x\"],axis=1, inplace=True)"
      ],
      "execution_count": 38,
      "outputs": []
    },
    {
      "cell_type": "code",
      "metadata": {
        "colab": {
          "base_uri": "https://localhost:8080/"
        },
        "id": "7CaYdpmmNFbK",
        "outputId": "cc709431-6c9b-48cb-87a7-e2ed4e3e70be"
      },
      "source": [
        "ds.columns"
      ],
      "execution_count": 39,
      "outputs": [
        {
          "output_type": "execute_result",
          "data": {
            "text/plain": [
              "Index(['Crime ID', 'Month_x', 'Reported by_x', 'Longitude_x', 'Latitude_x',\n",
              "       'Location_x', 'LSOA code_x', 'LSOA name_x', 'Crime type',\n",
              "       'Last outcome category', 'Month_y', 'Reported by_y', 'Falls within_y',\n",
              "       'Longitude_y', 'Latitude_y', 'Location_y', 'LSOA code_y', 'LSOA name_y',\n",
              "       'Outcome type', 'Type', 'Date', 'Latitude', 'Longitude', 'Gender',\n",
              "       'Age range', 'Self-defined ethnicity', 'Officer-defined ethnicity',\n",
              "       'Legislation', 'Object of search', 'Outcome',\n",
              "       'Outcome linked to object of search',\n",
              "       'Removal of more than just outer clothing'],\n",
              "      dtype='object')"
            ]
          },
          "metadata": {
            "tags": []
          },
          "execution_count": 39
        }
      ]
    },
    {
      "cell_type": "code",
      "metadata": {
        "colab": {
          "base_uri": "https://localhost:8080/"
        },
        "id": "tRdtYokMr2HU",
        "outputId": "249bf5c9-3722-491e-b3b2-c1cee5b11711"
      },
      "source": [
        "ds.dtypes"
      ],
      "execution_count": 40,
      "outputs": [
        {
          "output_type": "execute_result",
          "data": {
            "text/plain": [
              "Crime ID                                     object\n",
              "Month_x                                      object\n",
              "Reported by_x                                object\n",
              "Longitude_x                                 float64\n",
              "Latitude_x                                  float64\n",
              "Location_x                                   object\n",
              "LSOA code_x                                  object\n",
              "LSOA name_x                                  object\n",
              "Crime type                                   object\n",
              "Last outcome category                        object\n",
              "Month_y                                      object\n",
              "Reported by_y                                object\n",
              "Falls within_y                               object\n",
              "Longitude_y                                 float64\n",
              "Latitude_y                                  float64\n",
              "Location_y                                   object\n",
              "LSOA code_y                                  object\n",
              "LSOA name_y                                  object\n",
              "Outcome type                                 object\n",
              "Type                                         object\n",
              "Date                                         object\n",
              "Latitude                                    float64\n",
              "Longitude                                   float64\n",
              "Gender                                       object\n",
              "Age range                                    object\n",
              "Self-defined ethnicity                       object\n",
              "Officer-defined ethnicity                    object\n",
              "Legislation                                  object\n",
              "Object of search                             object\n",
              "Outcome                                      object\n",
              "Outcome linked to object of search           object\n",
              "Removal of more than just outer clothing     object\n",
              "dtype: object"
            ]
          },
          "metadata": {
            "tags": []
          },
          "execution_count": 40
        }
      ]
    },
    {
      "cell_type": "code",
      "metadata": {
        "id": "anEq0lj5tm8m"
      },
      "source": [
        "sum(ds.duplicated())\r\n",
        "#removing duplicate values\r\n",
        "ds.drop_duplicates(inplace=True)"
      ],
      "execution_count": 43,
      "outputs": []
    },
    {
      "cell_type": "code",
      "metadata": {
        "colab": {
          "base_uri": "https://localhost:8080/"
        },
        "id": "twbZ4yj0sJuE",
        "outputId": "002c2fee-8473-4798-9df6-362f48bfc6d0"
      },
      "source": [
        "#checking for unique values\r\n",
        "ds.nunique()"
      ],
      "execution_count": 42,
      "outputs": [
        {
          "output_type": "execute_result",
          "data": {
            "text/plain": [
              "Crime ID                                    1127\n",
              "Month_x                                        1\n",
              "Reported by_x                                  2\n",
              "Longitude_x                                  817\n",
              "Latitude_x                                   816\n",
              "Location_x                                   666\n",
              "LSOA code_x                                  324\n",
              "LSOA name_x                                  324\n",
              "Crime type                                    13\n",
              "Last outcome category                          4\n",
              "Month_y                                        1\n",
              "Reported by_y                                  2\n",
              "Falls within_y                                 2\n",
              "Longitude_y                                  816\n",
              "Latitude_y                                   815\n",
              "Location_y                                   665\n",
              "LSOA code_y                                  324\n",
              "LSOA name_y                                  324\n",
              "Outcome type                                   9\n",
              "Type                                           2\n",
              "Date                                         375\n",
              "Latitude                                     244\n",
              "Longitude                                    245\n",
              "Gender                                         2\n",
              "Age range                                      4\n",
              "Self-defined ethnicity                        13\n",
              "Officer-defined ethnicity                      4\n",
              "Legislation                                    4\n",
              "Object of search                               8\n",
              "Outcome                                        7\n",
              "Outcome linked to object of search             2\n",
              "Removal of more than just outer clothing       2\n",
              "dtype: int64"
            ]
          },
          "metadata": {
            "tags": []
          },
          "execution_count": 42
        }
      ]
    },
    {
      "cell_type": "code",
      "metadata": {
        "colab": {
          "base_uri": "https://localhost:8080/",
          "height": 585
        },
        "id": "JJlF08p40baw",
        "outputId": "8114a135-a5c7-4d29-b32b-ce7fc2572988"
      },
      "source": [
        "ds.head()"
      ],
      "execution_count": 45,
      "outputs": [
        {
          "output_type": "execute_result",
          "data": {
            "text/html": [
              "<div>\n",
              "<style scoped>\n",
              "    .dataframe tbody tr th:only-of-type {\n",
              "        vertical-align: middle;\n",
              "    }\n",
              "\n",
              "    .dataframe tbody tr th {\n",
              "        vertical-align: top;\n",
              "    }\n",
              "\n",
              "    .dataframe thead th {\n",
              "        text-align: right;\n",
              "    }\n",
              "</style>\n",
              "<table border=\"1\" class=\"dataframe\">\n",
              "  <thead>\n",
              "    <tr style=\"text-align: right;\">\n",
              "      <th></th>\n",
              "      <th>Crime ID</th>\n",
              "      <th>Month_x</th>\n",
              "      <th>Reported by_x</th>\n",
              "      <th>Longitude_x</th>\n",
              "      <th>Latitude_x</th>\n",
              "      <th>Location_x</th>\n",
              "      <th>LSOA code_x</th>\n",
              "      <th>LSOA name_x</th>\n",
              "      <th>Crime type</th>\n",
              "      <th>Last outcome category</th>\n",
              "      <th>Month_y</th>\n",
              "      <th>Reported by_y</th>\n",
              "      <th>Falls within_y</th>\n",
              "      <th>Longitude_y</th>\n",
              "      <th>Latitude_y</th>\n",
              "      <th>Location_y</th>\n",
              "      <th>LSOA code_y</th>\n",
              "      <th>LSOA name_y</th>\n",
              "      <th>Outcome type</th>\n",
              "      <th>Type</th>\n",
              "      <th>Date</th>\n",
              "      <th>Latitude</th>\n",
              "      <th>Longitude</th>\n",
              "      <th>Gender</th>\n",
              "      <th>Age range</th>\n",
              "      <th>Self-defined ethnicity</th>\n",
              "      <th>Officer-defined ethnicity</th>\n",
              "      <th>Legislation</th>\n",
              "      <th>Object of search</th>\n",
              "      <th>Outcome</th>\n",
              "      <th>Outcome linked to object of search</th>\n",
              "      <th>Removal of more than just outer clothing</th>\n",
              "    </tr>\n",
              "  </thead>\n",
              "  <tbody>\n",
              "    <tr>\n",
              "      <th>0</th>\n",
              "      <td>61406a16e68ad9aecf168a7eaf7cfcf3c848494a1868b4...</td>\n",
              "      <td>2020-12</td>\n",
              "      <td>City of London Police</td>\n",
              "      <td>-0.111962</td>\n",
              "      <td>51.518494</td>\n",
              "      <td>On or near Nightclub</td>\n",
              "      <td>E01000914</td>\n",
              "      <td>Camden 028B</td>\n",
              "      <td>Theft from the person</td>\n",
              "      <td>Under investigation</td>\n",
              "      <td>2021-01</td>\n",
              "      <td>City of London Police</td>\n",
              "      <td>City of London Police</td>\n",
              "      <td>-0.111962</td>\n",
              "      <td>51.518494</td>\n",
              "      <td>On or near Nightclub</td>\n",
              "      <td>E01000914</td>\n",
              "      <td>Camden 028B</td>\n",
              "      <td>Investigation complete; no suspect identified</td>\n",
              "      <td>Person and Vehicle search</td>\n",
              "      <td>2021-01-01T01:41:28+00:00</td>\n",
              "      <td>51.517680</td>\n",
              "      <td>-0.078484</td>\n",
              "      <td>Male</td>\n",
              "      <td>18-24</td>\n",
              "      <td>Other ethnic group - Not stated</td>\n",
              "      <td>Black</td>\n",
              "      <td>Misuse of Drugs Act 1971 (section 23)</td>\n",
              "      <td>Controlled drugs</td>\n",
              "      <td>Summons / charged by post</td>\n",
              "      <td>True</td>\n",
              "      <td>False</td>\n",
              "    </tr>\n",
              "    <tr>\n",
              "      <th>0</th>\n",
              "      <td>61406a16e68ad9aecf168a7eaf7cfcf3c848494a1868b4...</td>\n",
              "      <td>2020-12</td>\n",
              "      <td>City of London Police</td>\n",
              "      <td>-0.111962</td>\n",
              "      <td>51.518494</td>\n",
              "      <td>On or near Nightclub</td>\n",
              "      <td>E01000914</td>\n",
              "      <td>Camden 028B</td>\n",
              "      <td>Theft from the person</td>\n",
              "      <td>Under investigation</td>\n",
              "      <td>2021-01</td>\n",
              "      <td>City of London Police</td>\n",
              "      <td>City of London Police</td>\n",
              "      <td>-0.111962</td>\n",
              "      <td>51.518494</td>\n",
              "      <td>On or near Nightclub</td>\n",
              "      <td>E01000914</td>\n",
              "      <td>Camden 028B</td>\n",
              "      <td>Investigation complete; no suspect identified</td>\n",
              "      <td>Person search</td>\n",
              "      <td>2021-01-01T00:00:00+00:00</td>\n",
              "      <td>53.307770</td>\n",
              "      <td>-3.517491</td>\n",
              "      <td>Male</td>\n",
              "      <td>18-24</td>\n",
              "      <td>White - English/Welsh/Scottish/Northern Irish/...</td>\n",
              "      <td>White</td>\n",
              "      <td>Police and Criminal Evidence Act 1984 (section 1)</td>\n",
              "      <td>Offensive weapons</td>\n",
              "      <td>Arrest</td>\n",
              "      <td>True</td>\n",
              "      <td>False</td>\n",
              "    </tr>\n",
              "    <tr>\n",
              "      <th>1</th>\n",
              "      <td>252b01412a8c0130c4480616535876e7ef18300fe922df...</td>\n",
              "      <td>2020-12</td>\n",
              "      <td>City of London Police</td>\n",
              "      <td>-0.098572</td>\n",
              "      <td>51.516767</td>\n",
              "      <td>On or near King Edward Street</td>\n",
              "      <td>E01000001</td>\n",
              "      <td>City of London 001A</td>\n",
              "      <td>Possession of weapons</td>\n",
              "      <td>Under investigation</td>\n",
              "      <td>2021-01</td>\n",
              "      <td>City of London Police</td>\n",
              "      <td>City of London Police</td>\n",
              "      <td>-0.098572</td>\n",
              "      <td>51.516767</td>\n",
              "      <td>On or near KING EDWARD STREET</td>\n",
              "      <td>E01000001</td>\n",
              "      <td>City of London 001A</td>\n",
              "      <td>Local resolution</td>\n",
              "      <td>Person search</td>\n",
              "      <td>2021-01-01T03:40:20+00:00</td>\n",
              "      <td>NaN</td>\n",
              "      <td>NaN</td>\n",
              "      <td>Male</td>\n",
              "      <td>10-17</td>\n",
              "      <td>Other ethnic group - Not stated</td>\n",
              "      <td>Asian</td>\n",
              "      <td>Misuse of Drugs Act 1971 (section 23)</td>\n",
              "      <td>Controlled drugs</td>\n",
              "      <td>A no further action disposal</td>\n",
              "      <td>False</td>\n",
              "      <td>False</td>\n",
              "    </tr>\n",
              "    <tr>\n",
              "      <th>1</th>\n",
              "      <td>252b01412a8c0130c4480616535876e7ef18300fe922df...</td>\n",
              "      <td>2020-12</td>\n",
              "      <td>City of London Police</td>\n",
              "      <td>-0.098572</td>\n",
              "      <td>51.516767</td>\n",
              "      <td>On or near King Edward Street</td>\n",
              "      <td>E01000001</td>\n",
              "      <td>City of London 001A</td>\n",
              "      <td>Possession of weapons</td>\n",
              "      <td>Under investigation</td>\n",
              "      <td>2021-01</td>\n",
              "      <td>City of London Police</td>\n",
              "      <td>City of London Police</td>\n",
              "      <td>-0.098572</td>\n",
              "      <td>51.516767</td>\n",
              "      <td>On or near KING EDWARD STREET</td>\n",
              "      <td>E01000001</td>\n",
              "      <td>City of London 001A</td>\n",
              "      <td>Local resolution</td>\n",
              "      <td>Person search</td>\n",
              "      <td>2021-01-01T06:13:00+00:00</td>\n",
              "      <td>53.293639</td>\n",
              "      <td>-3.579722</td>\n",
              "      <td>Male</td>\n",
              "      <td>18-24</td>\n",
              "      <td>Other ethnic group - Not stated</td>\n",
              "      <td>White</td>\n",
              "      <td>Police and Criminal Evidence Act 1984 (section 1)</td>\n",
              "      <td>Offensive weapons</td>\n",
              "      <td>Arrest</td>\n",
              "      <td>True</td>\n",
              "      <td>False</td>\n",
              "    </tr>\n",
              "    <tr>\n",
              "      <th>2</th>\n",
              "      <td>7a3a400707ec99220833d38d64bfae2a17119b72246f6c...</td>\n",
              "      <td>2020-12</td>\n",
              "      <td>City of London Police</td>\n",
              "      <td>-0.093933</td>\n",
              "      <td>51.519812</td>\n",
              "      <td>On or near Conference/Exhibition Centre</td>\n",
              "      <td>E01000002</td>\n",
              "      <td>City of London 001B</td>\n",
              "      <td>Criminal damage and arson</td>\n",
              "      <td>Under investigation</td>\n",
              "      <td>2021-01</td>\n",
              "      <td>City of London Police</td>\n",
              "      <td>City of London Police</td>\n",
              "      <td>-0.093933</td>\n",
              "      <td>51.519812</td>\n",
              "      <td>On or near Conference/Exhibition Centre</td>\n",
              "      <td>E01000002</td>\n",
              "      <td>City of London 001B</td>\n",
              "      <td>Investigation complete; no suspect identified</td>\n",
              "      <td>Person search</td>\n",
              "      <td>2021-01-01T03:48:41+00:00</td>\n",
              "      <td>NaN</td>\n",
              "      <td>NaN</td>\n",
              "      <td>Male</td>\n",
              "      <td>18-24</td>\n",
              "      <td>Other ethnic group - Not stated</td>\n",
              "      <td>Other</td>\n",
              "      <td>Misuse of Drugs Act 1971 (section 23)</td>\n",
              "      <td>Controlled drugs</td>\n",
              "      <td>A no further action disposal</td>\n",
              "      <td>False</td>\n",
              "      <td>False</td>\n",
              "    </tr>\n",
              "  </tbody>\n",
              "</table>\n",
              "</div>"
            ],
            "text/plain": [
              "                                            Crime ID  ... Removal of more than just outer clothing\n",
              "0  61406a16e68ad9aecf168a7eaf7cfcf3c848494a1868b4...  ...                                    False\n",
              "0  61406a16e68ad9aecf168a7eaf7cfcf3c848494a1868b4...  ...                                    False\n",
              "1  252b01412a8c0130c4480616535876e7ef18300fe922df...  ...                                    False\n",
              "1  252b01412a8c0130c4480616535876e7ef18300fe922df...  ...                                    False\n",
              "2  7a3a400707ec99220833d38d64bfae2a17119b72246f6c...  ...                                    False\n",
              "\n",
              "[5 rows x 32 columns]"
            ]
          },
          "metadata": {
            "tags": []
          },
          "execution_count": 45
        }
      ]
    },
    {
      "cell_type": "markdown",
      "metadata": {
        "id": "tOm5fub5q_Rm"
      },
      "source": [
        "#Data Visualization"
      ]
    },
    {
      "cell_type": "markdown",
      "metadata": {
        "id": "VSFlRjQwvojb"
      },
      "source": [
        "###The figure shows more number males are affected than females"
      ]
    },
    {
      "cell_type": "code",
      "metadata": {
        "colab": {
          "base_uri": "https://localhost:8080/",
          "height": 352
        },
        "id": "S2PMiI1kq8cV",
        "outputId": "194dfcf1-5d02-45c0-c792-34e6028075a0"
      },
      "source": [
        "plt.figure(figsize= (8,5))\r\n",
        "#plot showing the gender wise count of victims\r\n",
        "sns.countplot(x=\"Gender\",data=ds)\r\n"
      ],
      "execution_count": null,
      "outputs": [
        {
          "output_type": "execute_result",
          "data": {
            "text/plain": [
              "<matplotlib.axes._subplots.AxesSubplot at 0x7f70ca8035d0>"
            ]
          },
          "metadata": {
            "tags": []
          },
          "execution_count": 123
        },
        {
          "output_type": "display_data",
          "data": {
            "image/png": "[encoded data removed]",
            "text/plain": [
              "<Figure size 576x360 with 1 Axes>"
            ]
          },
          "metadata": {
            "tags": [],
            "needs_background": "light"
          }
        }
      ]
    },
    {
      "cell_type": "code",
      "metadata": {
        "colab": {
          "base_uri": "https://localhost:8080/",
          "height": 514
        },
        "id": "9ScvdQhLrp96",
        "outputId": "d32ace96-96bc-46c6-ab88-b4177a046b2c"
      },
      "source": [
        "plt.figure(figsize=(10,8))\r\n",
        "#plot showing the age range of victims\r\n",
        "sns.countplot(x=\"Age range\",data=ds)"
      ],
      "execution_count": null,
      "outputs": [
        {
          "output_type": "execute_result",
          "data": {
            "text/plain": [
              "<matplotlib.axes._subplots.AxesSubplot at 0x7f70d028ad50>"
            ]
          },
          "metadata": {
            "tags": []
          },
          "execution_count": 126
        },
        {
          "output_type": "display_data",
          "data": {
            "image/png": "[encoded data removed]",
            "text/plain": [
              "<Figure size 720x576 with 1 Axes>"
            ]
          },
          "metadata": {
            "tags": [],
            "needs_background": "light"
          }
        }
      ]
    },
    {
      "cell_type": "code",
      "metadata": {
        "colab": {
          "base_uri": "https://localhost:8080/",
          "height": 353
        },
        "id": "esvUnQgVv64g",
        "outputId": "a4a3c161-ee7d-4e22-e1cf-ad80c440853c"
      },
      "source": [
        "plt.figure(figsize=(6,5))\r\n",
        "#plot showing the incidents reported in City of London and North Wales\r\n",
        "sns.countplot(data=ds,x='Reported by_y')"
      ],
      "execution_count": null,
      "outputs": [
        {
          "output_type": "execute_result",
          "data": {
            "text/plain": [
              "<matplotlib.axes._subplots.AxesSubplot at 0x7f70c98f64d0>"
            ]
          },
          "metadata": {
            "tags": []
          },
          "execution_count": 129
        },
        {
          "output_type": "display_data",
          "data": {
            "image/png": "[encoded data removed]",
            "text/plain": [
              "<Figure size 432x360 with 1 Axes>"
            ]
          },
          "metadata": {
            "tags": [],
            "needs_background": "light"
          }
        }
      ]
    },
    {
      "cell_type": "code",
      "metadata": {
        "colab": {
          "base_uri": "https://localhost:8080/",
          "height": 422
        },
        "id": "nUoKSviEx2-g",
        "outputId": "858a2c8d-1205-46ac-8397-fadb1dcb56dc"
      },
      "source": [
        "plt.figure(figsize=(35,12))\r\n",
        "#plot showing the reported types of Crimes against the subjects\r\n",
        "sns.countplot(data=ds, x=\"Crime type\")"
      ],
      "execution_count": 47,
      "outputs": [
        {
          "output_type": "execute_result",
          "data": {
            "text/plain": [
              "<matplotlib.axes._subplots.AxesSubplot at 0x7fc418ac4d50>"
            ]
          },
          "metadata": {
            "tags": []
          },
          "execution_count": 47
        },
        {
          "output_type": "display_data",
          "data": {
            "image/png": "[encoded data removed]",
            "text/plain": [
              "<Figure size 2520x864 with 1 Axes>"
            ]
          },
          "metadata": {
            "tags": [],
            "needs_background": "light"
          }
        }
      ]
    },
    {
      "cell_type": "code",
      "metadata": {
        "colab": {
          "base_uri": "https://localhost:8080/",
          "height": 297
        },
        "id": "EnV1fz-h1hqv",
        "outputId": "b906b4d8-78f2-44b9-db41-004711ea250b"
      },
      "source": [
        "plt.Figure(figsize=(20,13))\r\n",
        "#plot showing the ethnicity of police officers\r\n",
        "sns.countplot(data=ds,x='Officer-defined ethnicity')"
      ],
      "execution_count": null,
      "outputs": [
        {
          "output_type": "execute_result",
          "data": {
            "text/plain": [
              "<matplotlib.axes._subplots.AxesSubplot at 0x7f70c7212810>"
            ]
          },
          "metadata": {
            "tags": []
          },
          "execution_count": 157
        },
        {
          "output_type": "display_data",
          "data": {
            "image/png": "[encoded data removed]",
            "text/plain": [
              "<Figure size 432x288 with 1 Axes>"
            ]
          },
          "metadata": {
            "tags": [],
            "needs_background": "light"
          }
        }
      ]
    },
    {
      "cell_type": "code",
      "metadata": {
        "colab": {
          "base_uri": "https://localhost:8080/",
          "height": 297
        },
        "id": "41lnH-qR8QT_",
        "outputId": "6ca354e4-6de7-4cda-a135-e798f4aa3f71"
      },
      "source": [
        "plt.Figure(figsize=(35,12))\r\n",
        "#plot showing the ethnicity of subjects\r\n",
        "sns.countplot(data=ds,x='Self-defined ethnicity')"
      ],
      "execution_count": null,
      "outputs": [
        {
          "output_type": "execute_result",
          "data": {
            "text/plain": [
              "<matplotlib.axes._subplots.AxesSubplot at 0x7f70c6e1e510>"
            ]
          },
          "metadata": {
            "tags": []
          },
          "execution_count": 166
        },
        {
          "output_type": "display_data",
          "data": {
            "image/png": "[encoded data removed]",
            "text/plain": [
              "<Figure size 432x288 with 1 Axes>"
            ]
          },
          "metadata": {
            "tags": [],
            "needs_background": "light"
          }
        }
      ]
    },
    {
      "cell_type": "code",
      "metadata": {
        "colab": {
          "base_uri": "https://localhost:8080/",
          "height": 297
        },
        "id": "ScvAgoHj-rHI",
        "outputId": "e2ac3f23-c4e7-4db7-bd90-f55867910c57"
      },
      "source": [
        "plt.Figure(figsize=(20,20))\r\n",
        "sns.countplot(data=ds,x='Outcome linked to object of search')"
      ],
      "execution_count": null,
      "outputs": [
        {
          "output_type": "execute_result",
          "data": {
            "text/plain": [
              "<matplotlib.axes._subplots.AxesSubplot at 0x7f70c768a410>"
            ]
          },
          "metadata": {
            "tags": []
          },
          "execution_count": 169
        },
        {
          "output_type": "display_data",
          "data": {
            "image/png": "[encoded data removed]",
            "text/plain": [
              "<Figure size 432x288 with 1 Axes>"
            ]
          },
          "metadata": {
            "tags": [],
            "needs_background": "light"
          }
        }
      ]
    },
    {
      "cell_type": "code",
      "metadata": {
        "colab": {
          "base_uri": "https://localhost:8080/",
          "height": 297
        },
        "id": "0x8Fw9Ti_G85",
        "outputId": "d2b4e7bf-27d2-4b89-e157-617af73baae1"
      },
      "source": [
        "plt.Figure(figsize=(20,20))\r\n",
        "sns.countplot(data=ds,x='Last outcome category')"
      ],
      "execution_count": null,
      "outputs": [
        {
          "output_type": "execute_result",
          "data": {
            "text/plain": [
              "<matplotlib.axes._subplots.AxesSubplot at 0x7f70ca1c0610>"
            ]
          },
          "metadata": {
            "tags": []
          },
          "execution_count": 170
        },
        {
          "output_type": "display_data",
          "data": {
            "image/png": "[encoded data removed]",
            "text/plain": [
              "<Figure size 432x288 with 1 Axes>"
            ]
          },
          "metadata": {
            "tags": [],
            "needs_background": "light"
          }
        }
      ]
    },
    {
      "cell_type": "code",
      "metadata": {
        "colab": {
          "base_uri": "https://localhost:8080/",
          "height": 297
        },
        "id": "jNomGulR99ht",
        "outputId": "00f02826-8831-4a78-bc8b-fe21811b4f70"
      },
      "source": [
        "plt.Figure(figsize=(50,30))\r\n",
        "#plot showing the outcome type\r\n",
        "sns.countplot(data=ds,x= 'Outcome type')"
      ],
      "execution_count": 50,
      "outputs": [
        {
          "output_type": "execute_result",
          "data": {
            "text/plain": [
              "<matplotlib.axes._subplots.AxesSubplot at 0x7fc4182ec950>"
            ]
          },
          "metadata": {
            "tags": []
          },
          "execution_count": 50
        },
        {
          "output_type": "display_data",
          "data": {
            "image/png": "[encoded data removed]",
            "text/plain": [
              "<Figure size 432x288 with 1 Axes>"
            ]
          },
          "metadata": {
            "tags": [],
            "needs_background": "light"
          }
        }
      ]
    }
  ]
}