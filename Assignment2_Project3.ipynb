{
  "nbformat": 4,
  "nbformat_minor": 0,
  "metadata": {
    "colab": {
      "name": "Assignment2_Project3.ipynb",
      "provenance": [],
      "collapsed_sections": [],
      "authorship_tag": "ABX9TyN83gng1k8TiMlgCIZm+Q8D",
      "include_colab_link": true
    },
    "kernelspec": {
      "name": "python3",
      "display_name": "Python 3"
    },
    "language_info": {
      "name": "python"
    }
  },
  "cells": [
    {
      "cell_type": "markdown",
      "metadata": {
        "id": "view-in-github",
        "colab_type": "text"
      },
      "source": [
        "<a href=\"https://colab.research.google.com/github/SudheenaMisra/githubCE888/blob/main/Assignment2_Project3.ipynb\" target=\"_parent\"><img src=\"https://colab.research.google.com/assets/colab-badge.svg\" alt=\"Open In Colab\"/></a>"
      ]
    },
    {
      "cell_type": "code",
      "metadata": {
        "id": "bcs6mb9MZhOU"
      },
      "source": [
        "!pip install aif360[all]"
      ],
      "execution_count": null,
      "outputs": []
    },
    {
      "cell_type": "code",
      "metadata": {
        "id": "CIAS2EgplZH3"
      },
      "source": [
        "%matplotlib inline\n",
        "from IPython.core.interactiveshell import InteractiveShell\n",
        "InteractiveShell.ast_node_interactivity = \"all\"\n",
        "\n",
        "import numpy as np\n",
        "import pandas as pd\n",
        "import matplotlib.pyplot as plt\n",
        "import seaborn as sns\n",
        "from sklearn.metrics import confusion_matrix"
      ],
      "execution_count": 2,
      "outputs": []
    },
    {
      "cell_type": "markdown",
      "metadata": {
        "id": "8U8Qijr4DBxX"
      },
      "source": [
        "For the Anlaysis I have collected data that describes the stop and search reported in North West England(streets: Cheshire, Cumbria, Greater Manchester, Lancashire and Mercyside) and merged all these streets data using command prompt."
      ]
    },
    {
      "cell_type": "code",
      "metadata": {
        "id": "RSiuKkyUtdOr"
      },
      "source": [
        "#Stop and Search data reported in June 2018 of North West England\n",
        "june_2018 = pd.read_csv(\"https://raw.githubusercontent.com/SudheenaMisra/Datasets/main/North%20West%20England/june_2018.csv\")\n",
        "#Stop and Search data reported in January 2019 of North West England\n",
        "jan_2019 = pd.read_csv(\"https://raw.githubusercontent.com/SudheenaMisra/Datasets/main/North%20West%20England/jan2019.csv\")\n",
        "#Stop and Search data reported in November 2020 of North West England\n",
        "nov_2020 = pd.read_csv(\"https://raw.githubusercontent.com/SudheenaMisra/Datasets/main/North%20West%20England/nov_2020.csv\")\n"
      ],
      "execution_count": 3,
      "outputs": []
    },
    {
      "cell_type": "code",
      "metadata": {
        "id": "ebYujg1Bult7"
      },
      "source": [
        "#Concatenating the all data together\n",
        "data = pd.concat([june_2018,jan_2019,nov_2020])"
      ],
      "execution_count": 4,
      "outputs": []
    },
    {
      "cell_type": "markdown",
      "metadata": {
        "id": "05KLBjXxHOkH"
      },
      "source": [
        "## Priliminary data analysis"
      ]
    },
    {
      "cell_type": "code",
      "metadata": {
        "id": "LtpP8HKEvIRB",
        "colab": {
          "base_uri": "https://localhost:8080/"
        },
        "outputId": "31795ba7-2879-4ab6-c292-a91e34f501bb"
      },
      "source": [
        "# Inspecting the overall information of the data\n",
        "data.info()"
      ],
      "execution_count": 5,
      "outputs": [
        {
          "output_type": "stream",
          "text": [
            "<class 'pandas.core.frame.DataFrame'>\n",
            "Int64Index: 11001 entries, 0 to 5655\n",
            "Data columns (total 15 columns):\n",
            " #   Column                                    Non-Null Count  Dtype \n",
            "---  ------                                    --------------  ----- \n",
            " 0   Type                                      11001 non-null  object\n",
            " 1   Date                                      10998 non-null  object\n",
            " 2   Part of a policing operation              1209 non-null   object\n",
            " 3   Policing operation                        11 non-null     object\n",
            " 4   Latitude                                  8828 non-null   object\n",
            " 5   Longitude                                 8828 non-null   object\n",
            " 6   Gender                                    10081 non-null  object\n",
            " 7   Age range                                 10180 non-null  object\n",
            " 8   Self-defined ethnicity                    10621 non-null  object\n",
            " 9   Officer-defined ethnicity                 10140 non-null  object\n",
            " 10  Legislation                               10717 non-null  object\n",
            " 11  Object of search                          6781 non-null   object\n",
            " 12  Outcome                                   10888 non-null  object\n",
            " 13  Outcome linked to object of search        1914 non-null   object\n",
            " 14  Removal of more than just outer clothing  9047 non-null   object\n",
            "dtypes: object(15)\n",
            "memory usage: 1.3+ MB\n"
          ],
          "name": "stdout"
        }
      ]
    },
    {
      "cell_type": "code",
      "metadata": {
        "id": "jmVl7j87avWC",
        "colab": {
          "base_uri": "https://localhost:8080/",
          "height": 320
        },
        "outputId": "63749013-d747-4596-a08c-c0358ab8cd4c"
      },
      "source": [
        "#Summary Statistics\n",
        "data.describe()"
      ],
      "execution_count": 6,
      "outputs": [
        {
          "output_type": "execute_result",
          "data": {
            "text/html": [
              "<div>\n",
              "<style scoped>\n",
              "    .dataframe tbody tr th:only-of-type {\n",
              "        vertical-align: middle;\n",
              "    }\n",
              "\n",
              "    .dataframe tbody tr th {\n",
              "        vertical-align: top;\n",
              "    }\n",
              "\n",
              "    .dataframe thead th {\n",
              "        text-align: right;\n",
              "    }\n",
              "</style>\n",
              "<table border=\"1\" class=\"dataframe\">\n",
              "  <thead>\n",
              "    <tr style=\"text-align: right;\">\n",
              "      <th></th>\n",
              "      <th>Type</th>\n",
              "      <th>Date</th>\n",
              "      <th>Part of a policing operation</th>\n",
              "      <th>Policing operation</th>\n",
              "      <th>Latitude</th>\n",
              "      <th>Longitude</th>\n",
              "      <th>Gender</th>\n",
              "      <th>Age range</th>\n",
              "      <th>Self-defined ethnicity</th>\n",
              "      <th>Officer-defined ethnicity</th>\n",
              "      <th>Legislation</th>\n",
              "      <th>Object of search</th>\n",
              "      <th>Outcome</th>\n",
              "      <th>Outcome linked to object of search</th>\n",
              "      <th>Removal of more than just outer clothing</th>\n",
              "    </tr>\n",
              "  </thead>\n",
              "  <tbody>\n",
              "    <tr>\n",
              "      <th>count</th>\n",
              "      <td>11001</td>\n",
              "      <td>10998</td>\n",
              "      <td>1209</td>\n",
              "      <td>11</td>\n",
              "      <td>8828</td>\n",
              "      <td>8828</td>\n",
              "      <td>10081</td>\n",
              "      <td>10180</td>\n",
              "      <td>10621</td>\n",
              "      <td>10140</td>\n",
              "      <td>10717</td>\n",
              "      <td>6781</td>\n",
              "      <td>10888</td>\n",
              "      <td>1914</td>\n",
              "      <td>9047</td>\n",
              "    </tr>\n",
              "    <tr>\n",
              "      <th>unique</th>\n",
              "      <td>5</td>\n",
              "      <td>10383</td>\n",
              "      <td>3</td>\n",
              "      <td>1</td>\n",
              "      <td>4043</td>\n",
              "      <td>4062</td>\n",
              "      <td>4</td>\n",
              "      <td>6</td>\n",
              "      <td>19</td>\n",
              "      <td>5</td>\n",
              "      <td>7</td>\n",
              "      <td>12</td>\n",
              "      <td>8</td>\n",
              "      <td>3</td>\n",
              "      <td>3</td>\n",
              "    </tr>\n",
              "    <tr>\n",
              "      <th>top</th>\n",
              "      <td>Person search</td>\n",
              "      <td>2019-01-12T19:15:00+00:00</td>\n",
              "      <td>False</td>\n",
              "      <td>Policing operation</td>\n",
              "      <td>53.407939</td>\n",
              "      <td>-2.977364</td>\n",
              "      <td>Male</td>\n",
              "      <td>18-24</td>\n",
              "      <td>White - English/Welsh/Scottish/Northern Irish/...</td>\n",
              "      <td>White</td>\n",
              "      <td>Misuse of Drugs Act 1971 (section 23)</td>\n",
              "      <td>Controlled drugs</td>\n",
              "      <td>A no further action disposal</td>\n",
              "      <td>True</td>\n",
              "      <td>False</td>\n",
              "    </tr>\n",
              "    <tr>\n",
              "      <th>freq</th>\n",
              "      <td>8166</td>\n",
              "      <td>20</td>\n",
              "      <td>1103</td>\n",
              "      <td>11</td>\n",
              "      <td>74</td>\n",
              "      <td>74</td>\n",
              "      <td>9225</td>\n",
              "      <td>3439</td>\n",
              "      <td>8128</td>\n",
              "      <td>9102</td>\n",
              "      <td>7747</td>\n",
              "      <td>4017</td>\n",
              "      <td>8346</td>\n",
              "      <td>1392</td>\n",
              "      <td>8698</td>\n",
              "    </tr>\n",
              "  </tbody>\n",
              "</table>\n",
              "</div>"
            ],
            "text/plain": [
              "                 Type  ... Removal of more than just outer clothing\n",
              "count           11001  ...                                     9047\n",
              "unique              5  ...                                        3\n",
              "top     Person search  ...                                    False\n",
              "freq             8166  ...                                     8698\n",
              "\n",
              "[4 rows x 15 columns]"
            ]
          },
          "metadata": {
            "tags": []
          },
          "execution_count": 6
        }
      ]
    },
    {
      "cell_type": "code",
      "metadata": {
        "id": "z61CT0WJbsUK",
        "colab": {
          "base_uri": "https://localhost:8080/",
          "height": 501
        },
        "outputId": "7b2ac29b-6da0-44d5-dee2-505e28a59a80"
      },
      "source": [
        "#Inspecting last few rows \n",
        "data.tail()"
      ],
      "execution_count": 7,
      "outputs": [
        {
          "output_type": "execute_result",
          "data": {
            "text/html": [
              "<div>\n",
              "<style scoped>\n",
              "    .dataframe tbody tr th:only-of-type {\n",
              "        vertical-align: middle;\n",
              "    }\n",
              "\n",
              "    .dataframe tbody tr th {\n",
              "        vertical-align: top;\n",
              "    }\n",
              "\n",
              "    .dataframe thead th {\n",
              "        text-align: right;\n",
              "    }\n",
              "</style>\n",
              "<table border=\"1\" class=\"dataframe\">\n",
              "  <thead>\n",
              "    <tr style=\"text-align: right;\">\n",
              "      <th></th>\n",
              "      <th>Type</th>\n",
              "      <th>Date</th>\n",
              "      <th>Part of a policing operation</th>\n",
              "      <th>Policing operation</th>\n",
              "      <th>Latitude</th>\n",
              "      <th>Longitude</th>\n",
              "      <th>Gender</th>\n",
              "      <th>Age range</th>\n",
              "      <th>Self-defined ethnicity</th>\n",
              "      <th>Officer-defined ethnicity</th>\n",
              "      <th>Legislation</th>\n",
              "      <th>Object of search</th>\n",
              "      <th>Outcome</th>\n",
              "      <th>Outcome linked to object of search</th>\n",
              "      <th>Removal of more than just outer clothing</th>\n",
              "    </tr>\n",
              "  </thead>\n",
              "  <tbody>\n",
              "    <tr>\n",
              "      <th>5651</th>\n",
              "      <td>Person search</td>\n",
              "      <td>2020-11-30T23:53:08+00:00</td>\n",
              "      <td>NaN</td>\n",
              "      <td>NaN</td>\n",
              "      <td>53.421185</td>\n",
              "      <td>-2.947753</td>\n",
              "      <td>Male</td>\n",
              "      <td>18-24</td>\n",
              "      <td>White - English/Welsh/Scottish/Northern Irish/...</td>\n",
              "      <td>White</td>\n",
              "      <td>Misuse of Drugs Act 1971 (section 23)</td>\n",
              "      <td>NaN</td>\n",
              "      <td>A no further action disposal</td>\n",
              "      <td>NaN</td>\n",
              "      <td>False</td>\n",
              "    </tr>\n",
              "    <tr>\n",
              "      <th>5652</th>\n",
              "      <td>Person search</td>\n",
              "      <td>2020-11-30T23:54:29+00:00</td>\n",
              "      <td>NaN</td>\n",
              "      <td>NaN</td>\n",
              "      <td>53.424261</td>\n",
              "      <td>-2.834218</td>\n",
              "      <td>Male</td>\n",
              "      <td>10-17</td>\n",
              "      <td>White - English/Welsh/Scottish/Northern Irish/...</td>\n",
              "      <td>White</td>\n",
              "      <td>NaN</td>\n",
              "      <td>NaN</td>\n",
              "      <td>A no further action disposal</td>\n",
              "      <td>NaN</td>\n",
              "      <td>NaN</td>\n",
              "    </tr>\n",
              "    <tr>\n",
              "      <th>5653</th>\n",
              "      <td>Person search</td>\n",
              "      <td>2020-11-30T23:55:23+00:00</td>\n",
              "      <td>NaN</td>\n",
              "      <td>NaN</td>\n",
              "      <td>53.438232</td>\n",
              "      <td>-2.871629</td>\n",
              "      <td>Male</td>\n",
              "      <td>25-34</td>\n",
              "      <td>Other ethnic group - Not stated</td>\n",
              "      <td>NaN</td>\n",
              "      <td>NaN</td>\n",
              "      <td>NaN</td>\n",
              "      <td>A no further action disposal</td>\n",
              "      <td>NaN</td>\n",
              "      <td>False</td>\n",
              "    </tr>\n",
              "    <tr>\n",
              "      <th>5654</th>\n",
              "      <td>Person search</td>\n",
              "      <td>2020-11-30T23:58:14+00:00</td>\n",
              "      <td>NaN</td>\n",
              "      <td>NaN</td>\n",
              "      <td>53.421185</td>\n",
              "      <td>-2.947753</td>\n",
              "      <td>Male</td>\n",
              "      <td>18-24</td>\n",
              "      <td>White - Irish</td>\n",
              "      <td>White</td>\n",
              "      <td>Misuse of Drugs Act 1971 (section 23)</td>\n",
              "      <td>NaN</td>\n",
              "      <td>A no further action disposal</td>\n",
              "      <td>NaN</td>\n",
              "      <td>False</td>\n",
              "    </tr>\n",
              "    <tr>\n",
              "      <th>5655</th>\n",
              "      <td>\u001a</td>\n",
              "      <td>NaN</td>\n",
              "      <td>NaN</td>\n",
              "      <td>NaN</td>\n",
              "      <td>NaN</td>\n",
              "      <td>NaN</td>\n",
              "      <td>NaN</td>\n",
              "      <td>NaN</td>\n",
              "      <td>NaN</td>\n",
              "      <td>NaN</td>\n",
              "      <td>NaN</td>\n",
              "      <td>NaN</td>\n",
              "      <td>NaN</td>\n",
              "      <td>NaN</td>\n",
              "      <td>NaN</td>\n",
              "    </tr>\n",
              "  </tbody>\n",
              "</table>\n",
              "</div>"
            ],
            "text/plain": [
              "               Type  ... Removal of more than just outer clothing\n",
              "5651  Person search  ...                                    False\n",
              "5652  Person search  ...                                      NaN\n",
              "5653  Person search  ...                                    False\n",
              "5654  Person search  ...                                    False\n",
              "5655              \u001a  ...                                      NaN\n",
              "\n",
              "[5 rows x 15 columns]"
            ]
          },
          "metadata": {
            "tags": []
          },
          "execution_count": 7
        }
      ]
    },
    {
      "cell_type": "code",
      "metadata": {
        "id": "K2EbhIYIccs0",
        "colab": {
          "base_uri": "https://localhost:8080/"
        },
        "outputId": "e6878d68-07da-4373-a5a5-e7899f32c145"
      },
      "source": [
        "#removing last row as it contain almost all Null values\n",
        "data.drop(data.tail(n=1).index,inplace = True)\n",
        "#getting column names\n",
        "data.columns"
      ],
      "execution_count": 8,
      "outputs": [
        {
          "output_type": "execute_result",
          "data": {
            "text/plain": [
              "Index(['Type', 'Date', 'Part of a policing operation', 'Policing operation',\n",
              "       'Latitude', 'Longitude', 'Gender', 'Age range',\n",
              "       'Self-defined ethnicity', 'Officer-defined ethnicity', 'Legislation',\n",
              "       'Object of search', 'Outcome', 'Outcome linked to object of search',\n",
              "       'Removal of more than just outer clothing'],\n",
              "      dtype='object')"
            ]
          },
          "metadata": {
            "tags": []
          },
          "execution_count": 8
        }
      ]
    },
    {
      "cell_type": "code",
      "metadata": {
        "colab": {
          "base_uri": "https://localhost:8080/",
          "height": 196
        },
        "id": "c1qA3I93cHkN",
        "outputId": "f2648b36-c61d-433d-cd17-29d21f1b8bc4"
      },
      "source": [
        "#subsetting relevent columns for analysis\n",
        "data_subset = data[['Type','Gender', 'Age range','Officer-defined ethnicity',\n",
        "       'Object of search', 'Outcome']]\n",
        "data_subset.tail()"
      ],
      "execution_count": 9,
      "outputs": [
        {
          "output_type": "execute_result",
          "data": {
            "text/html": [
              "<div>\n",
              "<style scoped>\n",
              "    .dataframe tbody tr th:only-of-type {\n",
              "        vertical-align: middle;\n",
              "    }\n",
              "\n",
              "    .dataframe tbody tr th {\n",
              "        vertical-align: top;\n",
              "    }\n",
              "\n",
              "    .dataframe thead th {\n",
              "        text-align: right;\n",
              "    }\n",
              "</style>\n",
              "<table border=\"1\" class=\"dataframe\">\n",
              "  <thead>\n",
              "    <tr style=\"text-align: right;\">\n",
              "      <th></th>\n",
              "      <th>Type</th>\n",
              "      <th>Gender</th>\n",
              "      <th>Age range</th>\n",
              "      <th>Officer-defined ethnicity</th>\n",
              "      <th>Object of search</th>\n",
              "      <th>Outcome</th>\n",
              "    </tr>\n",
              "  </thead>\n",
              "  <tbody>\n",
              "    <tr>\n",
              "      <th>5650</th>\n",
              "      <td>Person search</td>\n",
              "      <td>Female</td>\n",
              "      <td>25-34</td>\n",
              "      <td>White</td>\n",
              "      <td>NaN</td>\n",
              "      <td>A no further action disposal</td>\n",
              "    </tr>\n",
              "    <tr>\n",
              "      <th>5651</th>\n",
              "      <td>Person search</td>\n",
              "      <td>Male</td>\n",
              "      <td>18-24</td>\n",
              "      <td>White</td>\n",
              "      <td>NaN</td>\n",
              "      <td>A no further action disposal</td>\n",
              "    </tr>\n",
              "    <tr>\n",
              "      <th>5652</th>\n",
              "      <td>Person search</td>\n",
              "      <td>Male</td>\n",
              "      <td>10-17</td>\n",
              "      <td>White</td>\n",
              "      <td>NaN</td>\n",
              "      <td>A no further action disposal</td>\n",
              "    </tr>\n",
              "    <tr>\n",
              "      <th>5653</th>\n",
              "      <td>Person search</td>\n",
              "      <td>Male</td>\n",
              "      <td>25-34</td>\n",
              "      <td>NaN</td>\n",
              "      <td>NaN</td>\n",
              "      <td>A no further action disposal</td>\n",
              "    </tr>\n",
              "    <tr>\n",
              "      <th>5654</th>\n",
              "      <td>Person search</td>\n",
              "      <td>Male</td>\n",
              "      <td>18-24</td>\n",
              "      <td>White</td>\n",
              "      <td>NaN</td>\n",
              "      <td>A no further action disposal</td>\n",
              "    </tr>\n",
              "  </tbody>\n",
              "</table>\n",
              "</div>"
            ],
            "text/plain": [
              "               Type  Gender  ... Object of search                       Outcome\n",
              "5650  Person search  Female  ...              NaN  A no further action disposal\n",
              "5651  Person search    Male  ...              NaN  A no further action disposal\n",
              "5652  Person search    Male  ...              NaN  A no further action disposal\n",
              "5653  Person search    Male  ...              NaN  A no further action disposal\n",
              "5654  Person search    Male  ...              NaN  A no further action disposal\n",
              "\n",
              "[5 rows x 6 columns]"
            ]
          },
          "metadata": {
            "tags": []
          },
          "execution_count": 9
        }
      ]
    },
    {
      "cell_type": "code",
      "metadata": {
        "colab": {
          "base_uri": "https://localhost:8080/"
        },
        "id": "fTY7gDf8fvF2",
        "outputId": "edaa45c5-83c7-4db9-d615-a31ce46ea8a0"
      },
      "source": [
        "#Changing the column name\n",
        "data_subset = data_subset.rename(columns = {'Officer-defined ethnicity':\"Ethnicity\"})\n",
        "data_subset.columns"
      ],
      "execution_count": 10,
      "outputs": [
        {
          "output_type": "execute_result",
          "data": {
            "text/plain": [
              "Index(['Type', 'Gender', 'Age range', 'Ethnicity', 'Object of search',\n",
              "       'Outcome'],\n",
              "      dtype='object')"
            ]
          },
          "metadata": {
            "tags": []
          },
          "execution_count": 10
        }
      ]
    },
    {
      "cell_type": "code",
      "metadata": {
        "colab": {
          "base_uri": "https://localhost:8080/"
        },
        "id": "XJDv7xmLhx8h",
        "outputId": "effcb4e7-f9d2-497e-d941-350b2ee36ae7"
      },
      "source": [
        "#Printing the category count in each column\n",
        "for i in data_subset.columns:\n",
        "    print(data_subset[i].value_counts())"
      ],
      "execution_count": 11,
      "outputs": [
        {
          "output_type": "stream",
          "text": [
            "Person search                8166\n",
            "Person and Vehicle search    2472\n",
            "Vehicle search                349\n",
            "Type                           11\n",
            "\u001a                               2\n",
            "Name: Type, dtype: int64\n",
            "Male      9225\n",
            "Female     842\n",
            "Gender      11\n",
            "Other        3\n",
            "Name: Gender, dtype: int64\n",
            "18-24        3439\n",
            "over 34      2489\n",
            "25-34        2443\n",
            "10-17        1792\n",
            "Age range      11\n",
            "under 10        6\n",
            "Name: Age range, dtype: int64\n",
            "White                        9102\n",
            "Asian                         475\n",
            "Black                         444\n",
            "Other                         108\n",
            "Officer-defined ethnicity      11\n",
            "Name: Ethnicity, dtype: int64\n",
            "Controlled drugs                       4017\n",
            "Articles for use in criminal damage     812\n",
            "Article for use in theft                734\n",
            "Offensive weapons                       567\n",
            "Stolen goods                            286\n",
            "Fireworks                               249\n",
            "Firearms                                 55\n",
            "Evidence of offences under the Act       24\n",
            "Anything to threaten or harm anyone      22\n",
            "Object of search                         11\n",
            "Crossbows                                 2\n",
            "Game or poaching equipment                2\n",
            "Name: Object of search, dtype: int64\n",
            "A no further action disposal       8346\n",
            "Arrest                             1221\n",
            "Community resolution                408\n",
            "Khat or Cannabis warning            396\n",
            "Summons / charged by post           267\n",
            "Penalty Notice for Disorder         123\n",
            "Caution (simple or conditional)     116\n",
            "Outcome                              11\n",
            "Name: Outcome, dtype: int64\n"
          ],
          "name": "stdout"
        }
      ]
    },
    {
      "cell_type": "code",
      "metadata": {
        "colab": {
          "base_uri": "https://localhost:8080/"
        },
        "id": "4o_nIYXeGVe_",
        "outputId": "ce770b30-0291-4495-8cfe-a48fba15563c"
      },
      "source": [
        "#Printing the count of missing values in each column\n",
        "data_subset.isnull().sum()"
      ],
      "execution_count": 12,
      "outputs": [
        {
          "output_type": "execute_result",
          "data": {
            "text/plain": [
              "Type                   0\n",
              "Gender               919\n",
              "Age range            820\n",
              "Ethnicity            860\n",
              "Object of search    4219\n",
              "Outcome              112\n",
              "dtype: int64"
            ]
          },
          "metadata": {
            "tags": []
          },
          "execution_count": 12
        }
      ]
    },
    {
      "cell_type": "markdown",
      "metadata": {
        "id": "4vFgzJ__Hbx7"
      },
      "source": [
        "## Handling missing values"
      ]
    },
    {
      "cell_type": "code",
      "metadata": {
        "colab": {
          "base_uri": "https://localhost:8080/"
        },
        "id": "VC3-U3amcEKx",
        "outputId": "c41202e5-c85b-4afe-f252-f2ac96ea67ca"
      },
      "source": [
        "#Imputing missing value of each column with most frequent category.\n",
        "#While analysing the data it has been noticed that the header names are present in some of the rows so first replacing those irrelevant categories to Nan and then fill with most frequent category.\n",
        "data_subset['Type'] = data_subset['Type'].replace(\"Type\" and \"\u001a\", np.NaN)\n",
        "data_subset['Type']=data_subset['Type'].fillna(\"Person search\")\n",
        "print(data_subset['Type'].unique())\n",
        "\n",
        "data_subset[\"Gender\"] = data_subset[\"Gender\"].replace(\"Gender\" or \"Other\", np.NaN)\n",
        "data_subset[\"Gender\"] = data_subset[\"Gender\"].fillna(\"Male\")\n",
        "print(data_subset[\"Gender\"].unique() )\n",
        "\n",
        "data_subset[\"Age range\"] = data_subset[\"Age range\"].replace(\"Age range\", np.NaN)\n",
        "data_subset[\"Age range\"] = data_subset[\"Age range\"].fillna(\"18-24\")\n",
        "print(data_subset[\"Age range\"].unique() )\n",
        "\n",
        "data_subset['Ethnicity'] = data_subset['Ethnicity'].replace(\"Officer-defined ethnicity\" or \"Other\", np.NaN)\n",
        "data_subset['Ethnicity'] = data_subset['Ethnicity'].fillna(\"White\")\n",
        "print(data_subset['Ethnicity'].unique())\n",
        "\n",
        "data_subset['Object of search'] = data_subset['Object of search'].replace('Object of search', np.NaN)\n",
        "data_subset['Object of search'] = data_subset['Object of search'].fillna('Controlled drugs')\n",
        "print(data_subset['Object of search'].unique())\n",
        "\n",
        "data_subset['Outcome'] = data_subset['Outcome'].replace('Outcome', np.NaN)\n",
        "data_subset['Outcome'] = data_subset['Outcome'].fillna('A no further action disposal')\n",
        "print(data_subset['Outcome'].unique())\n",
        "\n"
      ],
      "execution_count": 13,
      "outputs": [
        {
          "output_type": "stream",
          "text": [
            "['Person search' 'Person and Vehicle search' 'Type' 'Vehicle search']\n",
            "['Male' 'Female' 'Other']\n",
            "['25-34' '18-24' 'over 34' '10-17' 'under 10']\n",
            "['White' 'Black' 'Asian' 'Other']\n",
            "['Controlled drugs' 'Stolen goods' 'Article for use in theft'\n",
            " 'Offensive weapons' 'Firearms' 'Articles for use in criminal damage'\n",
            " 'Anything to threaten or harm anyone'\n",
            " 'Evidence of offences under the Act' 'Fireworks' 'Crossbows'\n",
            " 'Game or poaching equipment']\n",
            "['A no further action disposal' 'Summons / charged by post'\n",
            " 'Khat or Cannabis warning' 'Arrest' 'Community resolution'\n",
            " 'Caution (simple or conditional)' 'Penalty Notice for Disorder']\n"
          ],
          "name": "stdout"
        }
      ]
    },
    {
      "cell_type": "code",
      "metadata": {
        "colab": {
          "base_uri": "https://localhost:8080/"
        },
        "id": "1x8OmSoA5Yng",
        "outputId": "3e61209b-7ade-447b-b830-a155de80053e"
      },
      "source": [
        "#checking the null values again \n",
        "data_subset.isnull().sum()"
      ],
      "execution_count": 14,
      "outputs": [
        {
          "output_type": "execute_result",
          "data": {
            "text/plain": [
              "Type                0\n",
              "Gender              0\n",
              "Age range           0\n",
              "Ethnicity           0\n",
              "Object of search    0\n",
              "Outcome             0\n",
              "dtype: int64"
            ]
          },
          "metadata": {
            "tags": []
          },
          "execution_count": 14
        }
      ]
    },
    {
      "cell_type": "code",
      "metadata": {
        "colab": {
          "base_uri": "https://localhost:8080/"
        },
        "id": "WcKI9D4ShBtW",
        "outputId": "347b5831-364b-4080-82b0-da7e33f148fc"
      },
      "source": [
        "#printing the summary of Gender column\n",
        "data_subset[\"Gender\"].value_counts()"
      ],
      "execution_count": 15,
      "outputs": [
        {
          "output_type": "execute_result",
          "data": {
            "text/plain": [
              "Male      10155\n",
              "Female      842\n",
              "Other         3\n",
              "Name: Gender, dtype: int64"
            ]
          },
          "metadata": {
            "tags": []
          },
          "execution_count": 15
        }
      ]
    },
    {
      "cell_type": "code",
      "metadata": {
        "colab": {
          "base_uri": "https://localhost:8080/"
        },
        "id": "bjg7TEKCqLuq",
        "outputId": "556cea36-fd7e-41d3-a6d4-e3a5648a027c"
      },
      "source": [
        "#Calculating percentage\n",
        "print(\"percentage of Men:\", round(10158/11000*100, ndigits=2), \"%\")\n",
        "print(\"percentage of Women\", round(842/11000*100, ndigits=2), \"%\")"
      ],
      "execution_count": 16,
      "outputs": [
        {
          "output_type": "stream",
          "text": [
            "percentage of Men: 92.35 %\n",
            "percentage of Women 7.65 %\n"
          ],
          "name": "stdout"
        }
      ]
    },
    {
      "cell_type": "code",
      "metadata": {
        "colab": {
          "base_uri": "https://localhost:8080/"
        },
        "id": "ILOe2y3jrcXM",
        "outputId": "3d5e8857-a22a-4233-8b53-83f2732d47c2"
      },
      "source": [
        "data_subset['Ethnicity'].value_counts()"
      ],
      "execution_count": 17,
      "outputs": [
        {
          "output_type": "execute_result",
          "data": {
            "text/plain": [
              "White    9973\n",
              "Asian     475\n",
              "Black     444\n",
              "Other     108\n",
              "Name: Ethnicity, dtype: int64"
            ]
          },
          "metadata": {
            "tags": []
          },
          "execution_count": 17
        }
      ]
    },
    {
      "cell_type": "code",
      "metadata": {
        "colab": {
          "base_uri": "https://localhost:8080/"
        },
        "id": "6oozuyG7rzrq",
        "outputId": "d7c8d97f-e480-4db4-8d27-f6365ce7e23d"
      },
      "source": [
        "print(\"percentage of White:\", round(10081/11000*100, ndigits=2), \"%\")\n",
        "print(\"percentage of Asian:\", round(475/11000*100, ndigits=2), \"%\")\n",
        "print(\"percentage of Black:\", round(444/11000*100, ndigits=2), \"%\")"
      ],
      "execution_count": 18,
      "outputs": [
        {
          "output_type": "stream",
          "text": [
            "percentage of White: 91.65 %\n",
            "percentage of Asian: 4.32 %\n",
            "percentage of Black: 4.04 %\n"
          ],
          "name": "stdout"
        }
      ]
    },
    {
      "cell_type": "code",
      "metadata": {
        "id": "kx3SR4IOySpH"
      },
      "source": [
        ""
      ],
      "execution_count": null,
      "outputs": []
    },
    {
      "cell_type": "markdown",
      "metadata": {
        "id": "DmUJRnaYHFEg"
      },
      "source": [
        "# Data Visualization"
      ]
    },
    {
      "cell_type": "code",
      "metadata": {
        "colab": {
          "base_uri": "https://localhost:8080/",
          "height": 366
        },
        "id": "qQ1sLMtZ4oon",
        "outputId": "8b55bdaf-a776-4f2d-c595-c88fc545f150"
      },
      "source": [
        "\n",
        "plt.figure(figsize= (8,5))\n",
        "#plot showing the gender wise count of victims\n",
        "sns.countplot(x=\"Age range\",data=data_subset)\n",
        "plt.title(\"Bar plot showing stop and search based on age\")\n",
        "plt.savefig(\"age.pdf\", dpi=2000)"
      ],
      "execution_count": 40,
      "outputs": [
        {
          "output_type": "execute_result",
          "data": {
            "text/plain": [
              "<Figure size 576x360 with 0 Axes>"
            ]
          },
          "metadata": {
            "tags": []
          },
          "execution_count": 40
        },
        {
          "output_type": "execute_result",
          "data": {
            "text/plain": [
              "<matplotlib.axes._subplots.AxesSubplot at 0x7f2fe2ec5a90>"
            ]
          },
          "metadata": {
            "tags": []
          },
          "execution_count": 40
        },
        {
          "output_type": "execute_result",
          "data": {
            "text/plain": [
              "Text(0.5, 1.0, 'Bar plot showing stop and search based on age')"
            ]
          },
          "metadata": {
            "tags": []
          },
          "execution_count": 40
        },
        {
          "output_type": "display_data",
          "data": {
            "image/png": "[encoded data removed]",
            "text/plain": [
              "<Figure size 576x360 with 1 Axes>"
            ]
          },
          "metadata": {
            "tags": [],
            "needs_background": "light"
          }
        }
      ]
    },
    {
      "cell_type": "code",
      "metadata": {
        "colab": {
          "base_uri": "https://localhost:8080/",
          "height": 366
        },
        "id": "BJZzP3h64NTV",
        "outputId": "aec6c0b6-48af-4a96-e77b-6f25f8b16fdb"
      },
      "source": [
        "\n",
        "plt.figure(figsize= (8,5))\n",
        "#plot showing the gender wise count of victims\n",
        "sns.countplot(x=\"Gender\",data=data_subset)\n",
        "plt.title(\"Bar plot showing stop and search based on Gender\")\n",
        "plt.savefig(\"gender.pdf\", dpi=2000)"
      ],
      "execution_count": 41,
      "outputs": [
        {
          "output_type": "execute_result",
          "data": {
            "text/plain": [
              "<Figure size 576x360 with 0 Axes>"
            ]
          },
          "metadata": {
            "tags": []
          },
          "execution_count": 41
        },
        {
          "output_type": "execute_result",
          "data": {
            "text/plain": [
              "<matplotlib.axes._subplots.AxesSubplot at 0x7f2fe33628d0>"
            ]
          },
          "metadata": {
            "tags": []
          },
          "execution_count": 41
        },
        {
          "output_type": "execute_result",
          "data": {
            "text/plain": [
              "Text(0.5, 1.0, 'Bar plot showing stop and search based on Gender')"
            ]
          },
          "metadata": {
            "tags": []
          },
          "execution_count": 41
        },
        {
          "output_type": "display_data",
          "data": {
            "image/png": "[encoded data removed]",
            "text/plain": [
              "<Figure size 576x360 with 1 Axes>"
            ]
          },
          "metadata": {
            "tags": [],
            "needs_background": "light"
          }
        }
      ]
    },
    {
      "cell_type": "code",
      "metadata": {
        "colab": {
          "base_uri": "https://localhost:8080/",
          "height": 295
        },
        "id": "8pqwYfrx3Gr5",
        "outputId": "afa144ef-a4a2-4e7f-e511-b1d8311e1cf7"
      },
      "source": [
        "\n",
        "plt.figure(figsize= (30,5))\n",
        "#plot showing the gender wise count of victims\n",
        "sns.countplot(x=\"Object of search\",data=data_subset)\n",
        "plt.title(\"Bar plot showing the count of object of search in North West England\")\n",
        "plt.savefig(\"object.pdf\", dpi=2000)"
      ],
      "execution_count": 42,
      "outputs": [
        {
          "output_type": "execute_result",
          "data": {
            "text/plain": [
              "<Figure size 2160x360 with 0 Axes>"
            ]
          },
          "metadata": {
            "tags": []
          },
          "execution_count": 42
        },
        {
          "output_type": "execute_result",
          "data": {
            "text/plain": [
              "<matplotlib.axes._subplots.AxesSubplot at 0x7f2fe2ef4190>"
            ]
          },
          "metadata": {
            "tags": []
          },
          "execution_count": 42
        },
        {
          "output_type": "execute_result",
          "data": {
            "text/plain": [
              "Text(0.5, 1.0, 'Bar plot showing the count of object of search in North West England')"
            ]
          },
          "metadata": {
            "tags": []
          },
          "execution_count": 42
        },
        {
          "output_type": "display_data",
          "data": {
            "image/png": "[encoded data removed]",
            "text/plain": [
              "<Figure size 2160x360 with 1 Axes>"
            ]
          },
          "metadata": {
            "tags": [],
            "needs_background": "light"
          }
        }
      ]
    },
    {
      "cell_type": "code",
      "metadata": {
        "colab": {
          "base_uri": "https://localhost:8080/",
          "height": 366
        },
        "id": "NHl_woXZ3w6i",
        "outputId": "f0d0a464-f69e-48fe-aa7e-ae9d13277b63"
      },
      "source": [
        "\n",
        "plt.figure(figsize= (8,5))\n",
        "#plot showing the gender wise count of victims\n",
        "sns.countplot(x=\"Ethnicity\",data=data_subset)\n",
        "plt.title(\"Bar plot showing stop and search based on Ethinicity\")\n",
        "plt.savefig(\"ethnicity.pdf\", dpi=2000)"
      ],
      "execution_count": 43,
      "outputs": [
        {
          "output_type": "execute_result",
          "data": {
            "text/plain": [
              "<Figure size 576x360 with 0 Axes>"
            ]
          },
          "metadata": {
            "tags": []
          },
          "execution_count": 43
        },
        {
          "output_type": "execute_result",
          "data": {
            "text/plain": [
              "<matplotlib.axes._subplots.AxesSubplot at 0x7f2fe2daf5d0>"
            ]
          },
          "metadata": {
            "tags": []
          },
          "execution_count": 43
        },
        {
          "output_type": "execute_result",
          "data": {
            "text/plain": [
              "Text(0.5, 1.0, 'Bar plot showing stop and search based on Ethinicity')"
            ]
          },
          "metadata": {
            "tags": []
          },
          "execution_count": 43
        },
        {
          "output_type": "display_data",
          "data": {
            "image/png": "[encoded data removed]",
            "text/plain": [
              "<Figure size 576x360 with 1 Axes>"
            ]
          },
          "metadata": {
            "tags": [],
            "needs_background": "light"
          }
        }
      ]
    },
    {
      "cell_type": "code",
      "metadata": {
        "colab": {
          "base_uri": "https://localhost:8080/",
          "height": 295
        },
        "id": "LbYVZVUy3ixK",
        "outputId": "3295f2d3-fa4e-4da6-9f89-b688af352156"
      },
      "source": [
        "plt.figure(figsize= (30,5))\n",
        "#plot showing the gender wise count of victims\n",
        "sns.countplot(x=\"Outcome\",data=data_subset)\n",
        "plt.title(\"Bar plot showing the outcome of stop and search reported in North West England\")\n",
        "plt.savefig(\"outcome.pdf\", dpi=2000)"
      ],
      "execution_count": 44,
      "outputs": [
        {
          "output_type": "execute_result",
          "data": {
            "text/plain": [
              "<Figure size 2160x360 with 0 Axes>"
            ]
          },
          "metadata": {
            "tags": []
          },
          "execution_count": 44
        },
        {
          "output_type": "execute_result",
          "data": {
            "text/plain": [
              "<matplotlib.axes._subplots.AxesSubplot at 0x7f2fe2cd2950>"
            ]
          },
          "metadata": {
            "tags": []
          },
          "execution_count": 44
        },
        {
          "output_type": "execute_result",
          "data": {
            "text/plain": [
              "Text(0.5, 1.0, 'Bar plot showing the outcome of stop and search reported in North West England')"
            ]
          },
          "metadata": {
            "tags": []
          },
          "execution_count": 44
        },
        {
          "output_type": "display_data",
          "data": {
            "image/png": "[encoded data removed]",
            "text/plain": [
              "<Figure size 2160x360 with 1 Axes>"
            ]
          },
          "metadata": {
            "tags": [],
            "needs_background": "light"
          }
        }
      ]
    },
    {
      "cell_type": "markdown",
      "metadata": {
        "id": "FrRjPPp2O2Sx"
      },
      "source": [
        "## Preprocessing the data (part i)\n",
        "The missing values are now successfully handled.\n",
        "\n",
        "There is still some minor but essential data preprocessing needed before we proceed towards building our machine learning model. We are going to divide these remaining preprocessing steps into three main tasks:\n",
        "\n",
        "#### 1.Convert the non-numeric data into numeric.\n",
        "#### 2.Split the data into train and test sets.\n",
        "#### 3.Scale the feature values to a uniform range.\n",
        "First, we will be converting all the non-numeric values into numeric ones. We do this because not only it results in a faster computation but also many machine learning models (like XGBoost) (and especially the ones developed using scikit-learn) require the data to be in a strictly numeric format. We will do this by using a technique called label encoding."
      ]
    },
    {
      "cell_type": "code",
      "metadata": {
        "id": "FPr2ibxZ3qKz"
      },
      "source": [
        "# Import LabelEncoder\n",
        "from sklearn.preprocessing import LabelEncoder\n",
        "from sklearn.preprocessing import LabelEncoder\n",
        "\n",
        "# Instantiate LabelEncoder\n",
        "le=LabelEncoder()\n",
        "\n",
        "# Iterate over all the values of each column and extract their dtypes\n",
        "for col in data_subset.columns.to_numpy():\n",
        "    # Compare if the dtype is object\n",
        "    if data_subset[col].dtypes =='object':\n",
        "    # Use LabelEncoder to do the numeric transformation\n",
        "        data_subset[col]=le.fit_transform(data_subset[col])"
      ],
      "execution_count": 60,
      "outputs": []
    },
    {
      "cell_type": "code",
      "metadata": {
        "colab": {
          "base_uri": "https://localhost:8080/"
        },
        "id": "qRJ_zpiKjC-W",
        "outputId": "ec1ac779-02f4-490a-f5f4-6c5871ba0046"
      },
      "source": [
        "data_subset.dtypes"
      ],
      "execution_count": 61,
      "outputs": [
        {
          "output_type": "execute_result",
          "data": {
            "text/plain": [
              "Type                int64\n",
              "Gender              int64\n",
              "Age range           int64\n",
              "Ethnicity           int64\n",
              "Object of search    int64\n",
              "Outcome             int64\n",
              "dtype: object"
            ]
          },
          "metadata": {
            "tags": []
          },
          "execution_count": 61
        }
      ]
    },
    {
      "cell_type": "code",
      "metadata": {
        "colab": {
          "base_uri": "https://localhost:8080/"
        },
        "id": "J-BNwF_cpBsM",
        "outputId": "ab351184-9aff-4b13-dc08-025a8d24d6c3"
      },
      "source": [
        "print(data_subset.head())\n",
        "print(data_subset.shape)"
      ],
      "execution_count": 62,
      "outputs": [
        {
          "output_type": "stream",
          "text": [
            "   Type  Gender  Age range  Ethnicity  Object of search  Outcome\n",
            "0     1       1          2          3                 3        0\n",
            "1     1       1          1          3                 3        0\n",
            "2     1       0          2          3                10        0\n",
            "3     1       1          2          3                 3        6\n",
            "4     1       1          1          3                 3        4\n",
            "(11000, 6)\n"
          ],
          "name": "stdout"
        }
      ]
    },
    {
      "cell_type": "markdown",
      "metadata": {
        "id": "kJ4rAmkUjjWB"
      },
      "source": [
        "### Splitting the dataset into train and test sets.\n",
        "\n",
        "We have successfully converted all the non-numeric values to numeric ones.Now, we will split our data into train set and test set to prepare our data for two different phases of machine learning modeling: training and testing. Ideally, no information from the test data should be used to scale the training data or should be used to direct the training process of a machine learning model. Hence, we first split the data and then apply the scaling."
      ]
    },
    {
      "cell_type": "code",
      "metadata": {
        "id": "t00Vtc0Jjwma"
      },
      "source": [
        "# Import train_test_split\n",
        "from sklearn.model_selection import train_test_split\n",
        "\n",
        "# convert the DataFrame to a NumPy array\n",
        "#data_subset = data_subset.drop(\"Date\")\n",
        "data_subset = data_subset.to_numpy()\n",
        "\n",
        "\n",
        "# Segregate features and labels into separate variables\n",
        "x,y = data_subset[:,0:5] , data_subset[:,5]\n",
        "\n",
        "# Split into train and test sets\n",
        "x_train, X_test, y_train, Y_test = train_test_split(x,y,test_size=0.33, random_state=42)\n",
        "                                "
      ],
      "execution_count": 63,
      "outputs": []
    },
    {
      "cell_type": "markdown",
      "metadata": {
        "id": "_N03soLzxmBy"
      },
      "source": [
        "The data is now split into two separate sets - train and test sets respectively. We are only left with one final preprocessing step of scaling before we can fit a machine learning model to the data."
      ]
    },
    {
      "cell_type": "code",
      "metadata": {
        "id": "_CASpDj-sMCF"
      },
      "source": [
        "# Import MinMaxScaler\n",
        "from sklearn.preprocessing import MinMaxScaler\n",
        "\n",
        "# Instantiate MinMaxScaler and use it to rescale X_train and X_test\n",
        "scaler = MinMaxScaler(feature_range=(0, 1))\n",
        "rescaledX_train = scaler.fit_transform(x_train)\n",
        "rescaledX_test = scaler.transform(X_test)"
      ],
      "execution_count": 64,
      "outputs": []
    },
    {
      "cell_type": "markdown",
      "metadata": {
        "id": "i0AkH5Ok0C8P"
      },
      "source": [
        "### Fitting a logistic regression model to the train set"
      ]
    },
    {
      "cell_type": "code",
      "metadata": {
        "colab": {
          "base_uri": "https://localhost:8080/"
        },
        "id": "Os3_m8gdzsOy",
        "outputId": "187bcfff-d36d-4a6c-e45b-208d9b0b9e05"
      },
      "source": [
        "# Import LogisticRegression\n",
        "from sklearn.linear_model import LogisticRegression\n",
        "\n",
        "# Instantiate a LogisticRegression classifier with default parameter values\n",
        "logreg = LogisticRegression()\n",
        "\n",
        "# Fit logreg to the train set\n",
        "logreg.fit(rescaledX_train,y_train)"
      ],
      "execution_count": 65,
      "outputs": [
        {
          "output_type": "stream",
          "text": [
            "/usr/local/lib/python3.7/dist-packages/sklearn/linear_model/_logistic.py:940: ConvergenceWarning: lbfgs failed to converge (status=1):\n",
            "STOP: TOTAL NO. of ITERATIONS REACHED LIMIT.\n",
            "\n",
            "Increase the number of iterations (max_iter) or scale the data as shown in:\n",
            "    https://scikit-learn.org/stable/modules/preprocessing.html\n",
            "Please also refer to the documentation for alternative solver options:\n",
            "    https://scikit-learn.org/stable/modules/linear_model.html#logistic-regression\n",
            "  extra_warning_msg=_LOGISTIC_SOLVER_CONVERGENCE_MSG)\n"
          ],
          "name": "stderr"
        },
        {
          "output_type": "execute_result",
          "data": {
            "text/plain": [
              "LogisticRegression(C=1.0, class_weight=None, dual=False, fit_intercept=True,\n",
              "                   intercept_scaling=1, l1_ratio=None, max_iter=100,\n",
              "                   multi_class='auto', n_jobs=None, penalty='l2',\n",
              "                   random_state=None, solver='lbfgs', tol=0.0001, verbose=0,\n",
              "                   warm_start=False)"
            ]
          },
          "metadata": {
            "tags": []
          },
          "execution_count": 65
        }
      ]
    },
    {
      "cell_type": "markdown",
      "metadata": {
        "id": "IzgUei5U13zZ"
      },
      "source": [
        "### Making predictions and evaluating performance\n",
        "But how well does our model perform?\n",
        "\n",
        "We will now evaluate our model on the test set with respect to classification accuracy. But we will also take a look the model's confusion matrix. The confusion matrix helps us to view our model's performance."
      ]
    },
    {
      "cell_type": "code",
      "metadata": {
        "colab": {
          "base_uri": "https://localhost:8080/"
        },
        "id": "ugkwfaz_3T6Q",
        "outputId": "1aa38e8f-9f51-4bb1-e328-03ecdc10e788"
      },
      "source": [
        "# Import confusion_matrix\n",
        "from sklearn.metrics import confusion_matrix\n",
        "\n",
        "# Use logreg to predict instances from the test set and store it\n",
        "y_pred = logreg.predict(rescaledX_test)\n",
        "\n",
        "# Get the accuracy score of logreg model and print it\n",
        "print(\"Accuracy of logistic regression classifier: \", logreg.score(rescaledX_test,Y_test))\n",
        "\n",
        "# Print the confusion matrix of the logreg model\n",
        "confusion_matrix(Y_test,y_pred)"
      ],
      "execution_count": 66,
      "outputs": [
        {
          "output_type": "stream",
          "text": [
            "Accuracy of logistic regression classifier:  0.7721763085399449\n"
          ],
          "name": "stdout"
        },
        {
          "output_type": "execute_result",
          "data": {
            "text/plain": [
              "array([[2803,    0,    0,    0,    0,    0,    0],\n",
              "       [ 402,    0,    0,    0,    0,    0,    0],\n",
              "       [  38,    0,    0,    0,    0,    0,    0],\n",
              "       [ 130,    0,    0,    0,    0,    0,    0],\n",
              "       [ 114,    0,    0,    0,    0,    0,    0],\n",
              "       [  36,    0,    0,    0,    0,    0,    0],\n",
              "       [ 107,    0,    0,    0,    0,    0,    0]])"
            ]
          },
          "metadata": {
            "tags": []
          },
          "execution_count": 66
        }
      ]
    },
    {
      "cell_type": "markdown",
      "metadata": {
        "id": "cxouzrWw4jU2"
      },
      "source": [
        "### Grid searching and making the model perform better\n",
        "Our model was able to yield an accuracy score of almost 77%.\n",
        "For the confusion matrix, the first element of the of the first row of the confusion matrix denotes the true negatives meaning the number of negative instances predicted \n",
        "by the model correctly.Let's see if we can do better. We can perform a grid search of the model parameters to improve the model's ability to predict the bias.\n",
        "scikit-learn's implementation of logistic regression consists of different hyperparameters but we will grid search over the following two: tol and max_iter"
      ]
    },
    {
      "cell_type": "code",
      "metadata": {
        "id": "boAcxPoH42LA"
      },
      "source": [
        "# Import GridSearchCV\n",
        "from sklearn.model_selection import GridSearchCV\n",
        "\n",
        "# Define the grid of values for tol and max_iter\n",
        "tol = [0.01, 0.001 ,0.0001]\n",
        "max_iter = [100, 150, 200]\n",
        "\n",
        "# Create a dictionary where tol and max_iter are keys and the lists of their values are the corresponding values\n",
        "param_grid = dict(tol=tol, max_iter=max_iter)"
      ],
      "execution_count": 67,
      "outputs": []
    },
    {
      "cell_type": "markdown",
      "metadata": {
        "id": "7cGV3D6V4Fuq"
      },
      "source": [
        "### Finding the best performing model\n",
        "We have defined the grid of hyperparameter values and converted them into a single dictionary format which GridSearchCV() expects as one of its parameters. Now, we will begin the grid search to see which values perform best.We will instantiate GridSearchCV() with our earlier logreg model with all the data we have. Instead of passing train and test sets separately, we will supply X (scaled version) and y. We will also instruct GridSearchCV() to perform a cross-validation of five folds.\n"
      ]
    },
    {
      "cell_type": "code",
      "metadata": {
        "colab": {
          "base_uri": "https://localhost:8080/"
        },
        "id": "RnWfkL6D6jkP",
        "outputId": "2641d112-72ce-4997-f571-f4ae0e3a870a"
      },
      "source": [
        "# Instantiate GridSearchCV with the required parameters\n",
        "grid_model = GridSearchCV(estimator=logreg, param_grid=param_grid, cv=5)\n",
        "\n",
        "# Use scaler to rescale X and assign it to rescaledX\n",
        "rescaledX = scaler.fit_transform(x)\n",
        "\n",
        "# Fit grid_model to the data\n",
        "grid_model_result = grid_model.fit(rescaledX, y)\n",
        "\n",
        "# Summarize results\n",
        "best_score, best_params = grid_model_result.best_score_, grid_model_result.best_params_\n",
        "print(\"Best: %f using %s\" % (best_score, best_params))"
      ],
      "execution_count": 68,
      "outputs": [
        {
          "output_type": "stream",
          "text": [
            "/usr/local/lib/python3.7/dist-packages/sklearn/linear_model/_logistic.py:940: ConvergenceWarning: lbfgs failed to converge (status=1):\n",
            "STOP: TOTAL NO. of ITERATIONS REACHED LIMIT.\n",
            "\n",
            "Increase the number of iterations (max_iter) or scale the data as shown in:\n",
            "    https://scikit-learn.org/stable/modules/preprocessing.html\n",
            "Please also refer to the documentation for alternative solver options:\n",
            "    https://scikit-learn.org/stable/modules/linear_model.html#logistic-regression\n",
            "  extra_warning_msg=_LOGISTIC_SOLVER_CONVERGENCE_MSG)\n",
            "/usr/local/lib/python3.7/dist-packages/sklearn/linear_model/_logistic.py:940: ConvergenceWarning: lbfgs failed to converge (status=1):\n",
            "STOP: TOTAL NO. of ITERATIONS REACHED LIMIT.\n",
            "\n",
            "Increase the number of iterations (max_iter) or scale the data as shown in:\n",
            "    https://scikit-learn.org/stable/modules/preprocessing.html\n",
            "Please also refer to the documentation for alternative solver options:\n",
            "    https://scikit-learn.org/stable/modules/linear_model.html#logistic-regression\n",
            "  extra_warning_msg=_LOGISTIC_SOLVER_CONVERGENCE_MSG)\n",
            "/usr/local/lib/python3.7/dist-packages/sklearn/linear_model/_logistic.py:940: ConvergenceWarning: lbfgs failed to converge (status=1):\n",
            "STOP: TOTAL NO. of ITERATIONS REACHED LIMIT.\n",
            "\n",
            "Increase the number of iterations (max_iter) or scale the data as shown in:\n",
            "    https://scikit-learn.org/stable/modules/preprocessing.html\n",
            "Please also refer to the documentation for alternative solver options:\n",
            "    https://scikit-learn.org/stable/modules/linear_model.html#logistic-regression\n",
            "  extra_warning_msg=_LOGISTIC_SOLVER_CONVERGENCE_MSG)\n",
            "/usr/local/lib/python3.7/dist-packages/sklearn/linear_model/_logistic.py:940: ConvergenceWarning: lbfgs failed to converge (status=1):\n",
            "STOP: TOTAL NO. of ITERATIONS REACHED LIMIT.\n",
            "\n",
            "Increase the number of iterations (max_iter) or scale the data as shown in:\n",
            "    https://scikit-learn.org/stable/modules/preprocessing.html\n",
            "Please also refer to the documentation for alternative solver options:\n",
            "    https://scikit-learn.org/stable/modules/linear_model.html#logistic-regression\n",
            "  extra_warning_msg=_LOGISTIC_SOLVER_CONVERGENCE_MSG)\n",
            "/usr/local/lib/python3.7/dist-packages/sklearn/linear_model/_logistic.py:940: ConvergenceWarning: lbfgs failed to converge (status=1):\n",
            "STOP: TOTAL NO. of ITERATIONS REACHED LIMIT.\n",
            "\n",
            "Increase the number of iterations (max_iter) or scale the data as shown in:\n",
            "    https://scikit-learn.org/stable/modules/preprocessing.html\n",
            "Please also refer to the documentation for alternative solver options:\n",
            "    https://scikit-learn.org/stable/modules/linear_model.html#logistic-regression\n",
            "  extra_warning_msg=_LOGISTIC_SOLVER_CONVERGENCE_MSG)\n",
            "/usr/local/lib/python3.7/dist-packages/sklearn/linear_model/_logistic.py:940: ConvergenceWarning: lbfgs failed to converge (status=1):\n",
            "STOP: TOTAL NO. of ITERATIONS REACHED LIMIT.\n",
            "\n",
            "Increase the number of iterations (max_iter) or scale the data as shown in:\n",
            "    https://scikit-learn.org/stable/modules/preprocessing.html\n",
            "Please also refer to the documentation for alternative solver options:\n",
            "    https://scikit-learn.org/stable/modules/linear_model.html#logistic-regression\n",
            "  extra_warning_msg=_LOGISTIC_SOLVER_CONVERGENCE_MSG)\n",
            "/usr/local/lib/python3.7/dist-packages/sklearn/linear_model/_logistic.py:940: ConvergenceWarning: lbfgs failed to converge (status=1):\n",
            "STOP: TOTAL NO. of ITERATIONS REACHED LIMIT.\n",
            "\n",
            "Increase the number of iterations (max_iter) or scale the data as shown in:\n",
            "    https://scikit-learn.org/stable/modules/preprocessing.html\n",
            "Please also refer to the documentation for alternative solver options:\n",
            "    https://scikit-learn.org/stable/modules/linear_model.html#logistic-regression\n",
            "  extra_warning_msg=_LOGISTIC_SOLVER_CONVERGENCE_MSG)\n",
            "/usr/local/lib/python3.7/dist-packages/sklearn/linear_model/_logistic.py:940: ConvergenceWarning: lbfgs failed to converge (status=1):\n",
            "STOP: TOTAL NO. of ITERATIONS REACHED LIMIT.\n",
            "\n",
            "Increase the number of iterations (max_iter) or scale the data as shown in:\n",
            "    https://scikit-learn.org/stable/modules/preprocessing.html\n",
            "Please also refer to the documentation for alternative solver options:\n",
            "    https://scikit-learn.org/stable/modules/linear_model.html#logistic-regression\n",
            "  extra_warning_msg=_LOGISTIC_SOLVER_CONVERGENCE_MSG)\n",
            "/usr/local/lib/python3.7/dist-packages/sklearn/linear_model/_logistic.py:940: ConvergenceWarning: lbfgs failed to converge (status=1):\n",
            "STOP: TOTAL NO. of ITERATIONS REACHED LIMIT.\n",
            "\n",
            "Increase the number of iterations (max_iter) or scale the data as shown in:\n",
            "    https://scikit-learn.org/stable/modules/preprocessing.html\n",
            "Please also refer to the documentation for alternative solver options:\n",
            "    https://scikit-learn.org/stable/modules/linear_model.html#logistic-regression\n",
            "  extra_warning_msg=_LOGISTIC_SOLVER_CONVERGENCE_MSG)\n",
            "/usr/local/lib/python3.7/dist-packages/sklearn/linear_model/_logistic.py:940: ConvergenceWarning: lbfgs failed to converge (status=1):\n",
            "STOP: TOTAL NO. of ITERATIONS REACHED LIMIT.\n",
            "\n",
            "Increase the number of iterations (max_iter) or scale the data as shown in:\n",
            "    https://scikit-learn.org/stable/modules/preprocessing.html\n",
            "Please also refer to the documentation for alternative solver options:\n",
            "    https://scikit-learn.org/stable/modules/linear_model.html#logistic-regression\n",
            "  extra_warning_msg=_LOGISTIC_SOLVER_CONVERGENCE_MSG)\n",
            "/usr/local/lib/python3.7/dist-packages/sklearn/linear_model/_logistic.py:940: ConvergenceWarning: lbfgs failed to converge (status=1):\n",
            "STOP: TOTAL NO. of ITERATIONS REACHED LIMIT.\n",
            "\n",
            "Increase the number of iterations (max_iter) or scale the data as shown in:\n",
            "    https://scikit-learn.org/stable/modules/preprocessing.html\n",
            "Please also refer to the documentation for alternative solver options:\n",
            "    https://scikit-learn.org/stable/modules/linear_model.html#logistic-regression\n",
            "  extra_warning_msg=_LOGISTIC_SOLVER_CONVERGENCE_MSG)\n",
            "/usr/local/lib/python3.7/dist-packages/sklearn/linear_model/_logistic.py:940: ConvergenceWarning: lbfgs failed to converge (status=1):\n",
            "STOP: TOTAL NO. of ITERATIONS REACHED LIMIT.\n",
            "\n",
            "Increase the number of iterations (max_iter) or scale the data as shown in:\n",
            "    https://scikit-learn.org/stable/modules/preprocessing.html\n",
            "Please also refer to the documentation for alternative solver options:\n",
            "    https://scikit-learn.org/stable/modules/linear_model.html#logistic-regression\n",
            "  extra_warning_msg=_LOGISTIC_SOLVER_CONVERGENCE_MSG)\n"
          ],
          "name": "stderr"
        },
        {
          "output_type": "stream",
          "text": [
            "Best: 0.769909 using {'max_iter': 100, 'tol': 0.01}\n"
          ],
          "name": "stdout"
        },
        {
          "output_type": "stream",
          "text": [
            "/usr/local/lib/python3.7/dist-packages/sklearn/linear_model/_logistic.py:940: ConvergenceWarning: lbfgs failed to converge (status=1):\n",
            "STOP: TOTAL NO. of ITERATIONS REACHED LIMIT.\n",
            "\n",
            "Increase the number of iterations (max_iter) or scale the data as shown in:\n",
            "    https://scikit-learn.org/stable/modules/preprocessing.html\n",
            "Please also refer to the documentation for alternative solver options:\n",
            "    https://scikit-learn.org/stable/modules/linear_model.html#logistic-regression\n",
            "  extra_warning_msg=_LOGISTIC_SOLVER_CONVERGENCE_MSG)\n"
          ],
          "name": "stderr"
        }
      ]
    }
  ]
}